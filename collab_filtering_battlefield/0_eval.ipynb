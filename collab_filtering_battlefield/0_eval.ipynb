{
 "cells": [
  {
   "cell_type": "code",
   "execution_count": 1,
   "metadata": {},
   "outputs": [
    {
     "name": "stderr",
     "output_type": "stream",
     "text": [
      "/Users/a-shyraliev/.pyenv/versions/3.12.2/lib/python3.12/site-packages/tqdm/auto.py:21: TqdmWarning: IProgress not found. Please update jupyter and ipywidgets. See https://ipywidgets.readthedocs.io/en/stable/user_install.html\n",
      "  from .autonotebook import tqdm as notebook_tqdm\n"
     ]
    }
   ],
   "source": [
    "import cornac\n",
    "from cornac.eval_methods import RatioSplit\n",
    "from cornac.models import MF, PMF, BPR, SANSA, BiVAECF, LightGCN, RecVAE, EASE, NGCF, VAECF, IBPR, NeuMF, HPF\n",
    "from cornac.metrics import Precision, Recall, NDCG, MAP"
   ]
  },
  {
   "cell_type": "markdown",
   "metadata": {},
   "source": [
    "### 1. Import datasets"
   ]
  },
  {
   "cell_type": "code",
   "execution_count": 2,
   "metadata": {},
   "outputs": [],
   "source": [
    "ml_100k = cornac.datasets.movielens.load_feedback()\n",
    "rs = RatioSplit(data=ml_100k, test_size=0.2, rating_threshold=4.0, seed=123)"
   ]
  },
  {
   "cell_type": "markdown",
   "metadata": {},
   "source": [
    "### 2. Initialize models, here we are comparing: Biased MF, PMF, and BPR"
   ]
  },
  {
   "cell_type": "code",
   "execution_count": 3,
   "metadata": {},
   "outputs": [],
   "source": [
    "mf = MF(k=10, max_iter=200, learning_rate=0.01, lambda_reg=0.02, use_bias=True, seed=123)\n",
    "pmf = PMF(k=10, max_iter=200, learning_rate=0.001, lambda_reg=0.001, seed=123)\n",
    "bpr = BPR(k=10, max_iter=200, learning_rate=0.001, lambda_reg=0.01, seed=123)\n",
    "sansa_cholmod = SANSA(\n",
    "    name=\"SANSA (CHOLMOD)\",\n",
    "    l2=500.0,\n",
    "    weight_matrix_density=1e-2,\n",
    "    compute_gramian=True,\n",
    "    factorizer_class=\"CHOLMOD\",\n",
    "    factorizer_shift_step=1e-3,\n",
    "    factorizer_shift_multiplier=2.0,\n",
    "    inverter_scans=5,\n",
    "    inverter_finetune_steps=20,\n",
    "    use_absolute_value_scores=False,\n",
    ")\n",
    "\n",
    "sansa_icf = SANSA(\n",
    "    name=\"SANSA (ICF)\",\n",
    "    l2=10.0,\n",
    "    weight_matrix_density=1e-2,\n",
    "    compute_gramian=True,\n",
    "    factorizer_class=\"ICF\",\n",
    "    factorizer_shift_step=1e-3,\n",
    "    factorizer_shift_multiplier=2.0,\n",
    "    inverter_scans=5,\n",
    "    inverter_finetune_steps=20,\n",
    "    use_absolute_value_scores=False,\n",
    ")\n",
    "\n",
    "bivaecf = BiVAECF(\n",
    "    k=10,\n",
    "    use_gpu=False,\n",
    ")\n",
    "\n",
    "lightgcn = LightGCN()\n",
    "\n",
    "recvae = RecVAE(\n",
    "    use_gpu=False,\n",
    ")\n",
    "\n",
    "ease = EASE()\n",
    "\n",
    "ngcf = NGCF()\n",
    "\n",
    "vaecf = VAECF(\n",
    "    use_gpu=False,\n",
    ")\n",
    "\n",
    "ibpr = IBPR()\n",
    "\n",
    "neumf = NeuMF()\n",
    "\n",
    "hpf = HPF()\n",
    "\n",
    "models = [mf, pmf, bpr, bivaecf, recvae, ease, vaecf, ibpr, neumf, hpf]#sansa_cholmod, sansa_icf, lightgcn, ngcf]"
   ]
  },
  {
   "cell_type": "markdown",
   "metadata": {},
   "source": [
    "### 3. Evaluation metrics"
   ]
  },
  {
   "cell_type": "code",
   "execution_count": 4,
   "metadata": {},
   "outputs": [],
   "source": [
    "metrics = [Precision(k=10), Recall(k=10), NDCG(k=10), MAP()]"
   ]
  },
  {
   "cell_type": "code",
   "execution_count": 5,
   "metadata": {},
   "outputs": [
    {
     "name": "stderr",
     "output_type": "stream",
     "text": [
      "100%|██████████| 20/20 [03:10<00:00,  9.53s/it, loss=0.247]\n"
     ]
    },
    {
     "name": "stdout",
     "output_type": "stream",
     "text": [
      "Learning...\n",
      "Learning completed!\n",
      "\n",
      "TEST:\n",
      "...\n",
      "        |    MAP | NDCG@10 | Precision@10 | Recall@10 | Train (s) | Test (s)\n",
      "------- + ------ + ------- + ------------ + --------- + --------- + --------\n",
      "MF      | 0.0290 |  0.0214 |       0.0218 |    0.0165 |    0.1320 |   0.2939\n",
      "PMF     | 0.0538 |  0.0744 |       0.0618 |    0.0493 |    2.1057 |   0.2786\n",
      "BPR     | 0.1022 |  0.1435 |       0.1077 |    0.1214 |    1.0631 |   0.2825\n",
      "BiVAECF | 0.1471 |  0.1952 |       0.1483 |    0.1633 |    7.7278 |   0.2894\n",
      "RecVae  | 0.1313 |  0.1697 |       0.1294 |    0.1489 |   38.0527 |   0.6233\n",
      "EASEᴿ   | 0.1743 |  0.2327 |       0.1630 |    0.2078 |    0.1140 |   0.3299\n",
      "VAECF   | 0.1497 |  0.1986 |       0.1512 |    0.1650 |    3.5425 |   0.3678\n",
      "IBPR    | 0.0981 |  0.1143 |       0.0931 |    0.0889 |  160.5502 |   0.2780\n",
      "NeuMF   | 0.1649 |  0.2130 |       0.1570 |    0.1839 |  194.7774 |   3.9372\n",
      "HPF     | 0.1730 |  0.2386 |       0.1782 |    0.1871 |    4.4713 |   0.2992\n",
      "\n"
     ]
    }
   ],
   "source": [
    "cornac.Experiment(\n",
    "    eval_method=rs,\n",
    "    models=models,\n",
    "    metrics=metrics,\n",
    "    user_based=True,\n",
    "    save_dir=None,\n",
    ").run()"
   ]
  },
  {
   "cell_type": "code",
   "execution_count": 6,
   "metadata": {},
   "outputs": [
    {
     "data": {
      "text/plain": [
       "'2.7.0'"
      ]
     },
     "execution_count": 6,
     "metadata": {},
     "output_type": "execute_result"
    }
   ],
   "source": [
    "import torch\n",
    "torch.__version__"
   ]
  },
  {
   "cell_type": "code",
   "execution_count": null,
   "metadata": {},
   "outputs": [],
   "source": []
  }
 ],
 "metadata": {
  "kernelspec": {
   "display_name": "3.12.2",
   "language": "python",
   "name": "python3"
  },
  "language_info": {
   "codemirror_mode": {
    "name": "ipython",
    "version": 3
   },
   "file_extension": ".py",
   "mimetype": "text/x-python",
   "name": "python",
   "nbconvert_exporter": "python",
   "pygments_lexer": "ipython3",
   "version": "3.12.2"
  }
 },
 "nbformat": 4,
 "nbformat_minor": 2
}
