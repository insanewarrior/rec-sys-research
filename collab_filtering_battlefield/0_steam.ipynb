{
 "cells": [
  {
   "cell_type": "code",
   "execution_count": 1,
   "metadata": {},
   "outputs": [
    {
     "name": "stderr",
     "output_type": "stream",
     "text": [
      "/Users/a-shyraliev/.pyenv/versions/3.12.2/lib/python3.12/site-packages/tqdm/auto.py:21: TqdmWarning: IProgress not found. Please update jupyter and ipywidgets. See https://ipywidgets.readthedocs.io/en/stable/user_install.html\n",
      "  from .autonotebook import tqdm as notebook_tqdm\n"
     ]
    }
   ],
   "source": [
    "import cornac\n",
    "from cornac.eval_methods import RatioSplit\n",
    "from cornac.models import MF, PMF, BPR, SANSA, BiVAECF, LightGCN, RecVAE, EASE, NGCF, VAECF, IBPR, NeuMF, HPF\n",
    "from cornac.metrics import Precision, Recall, NDCG, MAP\n",
    "\n",
    "import numpy as np\n",
    "import pandas as pd\n",
    "from sklearn.model_selection import train_test_split"
   ]
  },
  {
   "cell_type": "markdown",
   "metadata": {},
   "source": [
    "### 1. Import datasets"
   ]
  },
  {
   "cell_type": "code",
   "execution_count": 2,
   "metadata": {},
   "outputs": [],
   "source": [
    "def stratified_ranking_split(\n",
    "    df: pd.DataFrame,\n",
    "    entity_field: str,\n",
    "    test_size: float = 0.1,\n",
    "    random_state: int | None = None,\n",
    ") -> tuple[pd.DataFrame, pd.DataFrame]:\n",
    "    \"\"\"\n",
    "    Splits a ranking-based dataset into training and test sets while preserving the entity distribution.\n",
    "\n",
    "    This function is useful for ranking models (e.g., next-best-offer, personalized recommendations) where each\n",
    "    entity (e.g., user) has multiple interactions with different items, and stratification ensures that\n",
    "    different user interaction levels are maintained in both splits.\n",
    "\n",
    "    Parameters:\n",
    "        df: The ranking dataset, where each row represents an interaction between an entity (e.g., user)\n",
    "            and an item (e.g., game, offer).\n",
    "        entity_field: The column representing the entity to be stratified.\n",
    "        test_size: Fraction of unique entities to allocate to the test set.\n",
    "        random_state: Random seed for reproducibility.\n",
    "\n",
    "    Returns:\n",
    "        DataFrames containing training and test data.\n",
    "\n",
    "    Example:\n",
    "        >>> train_validation_df, test_df = stratified_ranking_split(df, entity_field='user_id', test_size=0.1)\n",
    "        >>> train_df, validation_df = stratified_ranking_split(\n",
    "        ...     train_validation_df, entity_field='user_id', test_size=0.1\n",
    "        ... )\n",
    "        >>> print(train_df.shape, validation_df.shape, test_df.shape)\n",
    "    \"\"\"\n",
    "    entity_interaction_counts = df[entity_field].value_counts()\n",
    "\n",
    "    interaction_frequencies = entity_interaction_counts.value_counts()\n",
    "    stratifiable_interaction_counts = interaction_frequencies[interaction_frequencies >= 2].index\n",
    "\n",
    "    stratifiable_entities = entity_interaction_counts[\n",
    "        entity_interaction_counts.isin(stratifiable_interaction_counts)\n",
    "    ].index\n",
    "    non_stratifiable_entities = entity_interaction_counts[\n",
    "        ~entity_interaction_counts.isin(stratifiable_interaction_counts)\n",
    "    ].index\n",
    "\n",
    "    train_strat, test_strat = (\n",
    "        train_test_split(\n",
    "            stratifiable_entities,\n",
    "            test_size=test_size,\n",
    "            stratify=entity_interaction_counts[stratifiable_entities],\n",
    "            random_state=random_state,\n",
    "        )\n",
    "        if len(stratifiable_entities) > 1\n",
    "        else (stratifiable_entities, [])\n",
    "    )\n",
    "\n",
    "    if len(non_stratifiable_entities) > 1:\n",
    "        train_non_strat, test_non_strat = train_test_split(\n",
    "            non_stratifiable_entities,\n",
    "            test_size=test_size,\n",
    "            random_state=random_state,\n",
    "        )\n",
    "    else:\n",
    "        train_non_strat = non_stratifiable_entities\n",
    "        test_non_strat = []\n",
    "\n",
    "    train_users = np.concatenate([train_strat, train_non_strat])\n",
    "    test_users = np.concatenate([test_strat, test_non_strat])\n",
    "\n",
    "    return df[df[entity_field].isin(train_users)], df[df[entity_field].isin(test_users)]"
   ]
  },
  {
   "cell_type": "code",
   "execution_count": null,
   "metadata": {},
   "outputs": [],
   "source": []
  },
  {
   "cell_type": "code",
   "execution_count": 3,
   "metadata": {},
   "outputs": [],
   "source": [
    "SEED = 123\n",
    "\n",
    "metrics = [Precision(k=10), Recall(k=10), NDCG(k=10), MAP()]"
   ]
  },
  {
   "cell_type": "code",
   "execution_count": 4,
   "metadata": {},
   "outputs": [],
   "source": [
    "steam_dataset = (\n",
    "    pd.read_csv(\n",
    "        \"/Users/a-shyraliev/phd/rec-sys-research/collab_filtering_battlefield/steam_recommendations.csv\",\n",
    "        usecols=['user_id', 'app_id', 'hours'],\n",
    "    )\n",
    "    .loc[:, ['user_id', 'app_id', 'hours']]\n",
    "    .drop_duplicates()\n",
    ")\n",
    "\n",
    "# movielens_100k_dataset = cornac.datasets.movielens.load_feedback()\n",
    "# movielens_20M_dataset = cornac.datasets.movielens.load_feedback(variant=\"20m\")\n",
    "\n",
    "\n",
    "\n",
    "# lastfm_dataset = (\n",
    "#     pd.read_csv(\n",
    "#         \"/Users/a-shyraliev/phd/rec-sys-research/collab_filtering_battlefield/lastfm-dataset-360K/usersha1-artmbid-artname-plays.tsv\",\n",
    "#         sep=\"\\t\",\n",
    "#         header=None,\n",
    "#         usecols=[0, 2, 3],\n",
    "#         names=['user_id', 'item_id', 'play_count'],\n",
    "#         nrows=1000\n",
    "#     )\n",
    "#     .loc[:, ['user_id', 'item_id', 'play_count']]\n",
    "#     .drop_duplicates()\n",
    "#     .values\n",
    "# )"
   ]
  },
  {
   "cell_type": "code",
   "execution_count": 5,
   "metadata": {},
   "outputs": [
    {
     "data": {
      "text/plain": [
       "37610"
      ]
     },
     "execution_count": 5,
     "metadata": {},
     "output_type": "execute_result"
    }
   ],
   "source": [
    "steam_dataset['app_id'].nunique()"
   ]
  },
  {
   "cell_type": "code",
   "execution_count": 6,
   "metadata": {},
   "outputs": [],
   "source": [
    "# steam_dataset_sample = sample_data(steam_dataset, n_users=100000, user_col='user_id')\n",
    "_, steam_dataset_sample_str = stratified_ranking_split(\n",
    "    steam_dataset,\n",
    "    entity_field='user_id',\n",
    "    test_size=0.01,\n",
    "    random_state=SEED,\n",
    ")"
   ]
  },
  {
   "cell_type": "code",
   "execution_count": 7,
   "metadata": {},
   "outputs": [
    {
     "data": {
      "text/plain": [
       "(<121521x14807 sparse matrix of type '<class 'numpy.float64'>'\n",
       " \twith 325828 stored elements in Compressed Sparse Row format>,\n",
       " <121521x14807 sparse matrix of type '<class 'numpy.float64'>'\n",
       " \twith 62707 stored elements in Compressed Sparse Row format>)"
      ]
     },
     "execution_count": 7,
     "metadata": {},
     "output_type": "execute_result"
    }
   ],
   "source": [
    "rs = RatioSplit(data=steam_dataset_sample_str.values, test_size=0.2, rating_threshold=0.0, seed=SEED)\n",
    "rs.train_set.csr_matrix, rs.test_set.csr_matrix"
   ]
  },
  {
   "cell_type": "markdown",
   "metadata": {},
   "source": [
    "### 1. MF hyperparams optimization"
   ]
  },
  {
   "cell_type": "code",
   "execution_count": 25,
   "metadata": {},
   "outputs": [],
   "source": [
    "mf_models = [\n",
    "    MF(name='MF k=10, lambda_reg=0.02', k=10, max_iter=200, lambda_reg=0.02, use_bias=True, seed=SEED),\n",
    "    MF(name='MF k=50, lambda_reg=0.02', k=50, max_iter=200, lambda_reg=0.02, use_bias=True, seed=SEED),\n",
    "    MF(name='MF k=100, lambda_reg=0.02', k=100, max_iter=200, lambda_reg=0.02, use_bias=True, seed=SEED),\n",
    "    MF(name='MF k=10, lambda_reg=0.1', k=10, max_iter=200, lambda_reg=0.1, use_bias=True, seed=SEED),\n",
    "    MF(name='MF k=50, lambda_reg=0.1', k=50, max_iter=200, lambda_reg=0.1, use_bias=True, seed=SEED),\n",
    "    MF(name='MF k=100, lambda_reg=0.1', k=100, max_iter=200, lambda_reg=0.1, use_bias=True, seed=SEED),\n",
    "    MF(name='MF k=10, lambda_reg=1', k=10, max_iter=200, lambda_reg=1, use_bias=True, seed=SEED),\n",
    "    MF(name='MF k=50, lambda_reg=1', k=50, max_iter=200, lambda_reg=1, use_bias=True, seed=SEED),\n",
    "    MF(name='MF k=100, lambda_reg=1', k=100, max_iter=200, lambda_reg=1, use_bias=True, seed=SEED),\n",
    "]"
   ]
  },
  {
   "cell_type": "code",
   "execution_count": null,
   "metadata": {},
   "outputs": [
    {
     "name": "stdout",
     "output_type": "stream",
     "text": [
      "\n",
      "TEST:\n",
      "...\n",
      "                          | MAP | NDCG@10 | Precision@10 | Recall@10 | Train (s) | Test (s)\n",
      "------------------------- + --- + ------- + ------------ + --------- + --------- + --------\n",
      "MF k=10, lambda_reg=0.02  | nan |  0.0001 |       0.0000 |    0.0003 |    0.6121 |  21.6584\n",
      "MF k=50, lambda_reg=0.02  | nan |  0.0001 |       0.0000 |    0.0003 |    1.4565 |  31.7773\n",
      "MF k=100, lambda_reg=0.02 | nan |  0.0001 |       0.0000 |    0.0003 |    4.6947 |  30.5076\n",
      "MF k=10, lambda_reg=0.1   | nan |  0.0001 |       0.0000 |    0.0003 |    0.5838 |  21.4168\n",
      "MF k=50, lambda_reg=0.1   | nan |  0.0001 |       0.0000 |    0.0003 |    1.4895 |  32.6081\n",
      "MF k=100, lambda_reg=0.1  | nan |  0.0001 |       0.0000 |    0.0003 |    5.0005 |  32.5445\n",
      "MF k=10, lambda_reg=1     | nan |  0.0001 |       0.0000 |    0.0003 |    0.6227 |  21.9549\n",
      "MF k=50, lambda_reg=1     | nan |  0.0001 |       0.0000 |    0.0003 |    1.6991 |  32.9640\n",
      "MF k=100, lambda_reg=1    | nan |  0.0001 |       0.0000 |    0.0003 |    3.8201 |  32.2801\n",
      "\n"
     ]
    }
   ],
   "source": [
    "cornac.Experiment(\n",
    "    eval_method=rs,\n",
    "    models=mf_models,\n",
    "    metrics=metrics,\n",
    "    user_based=True,\n",
    "    save_dir=None,\n",
    ").run()"
   ]
  },
  {
   "cell_type": "markdown",
   "metadata": {},
   "source": [
    "### 2. PMF hyperparams optimization"
   ]
  },
  {
   "cell_type": "code",
   "execution_count": 27,
   "metadata": {},
   "outputs": [],
   "source": [
    "pmf_models = [\n",
    "    PMF(name='PMF k=5, lambda_reg=0.001', k=5, max_iter=200, lambda_reg=0.001, seed=SEED),\n",
    "    PMF(name='PMF k=10, lambda_reg=0.001', k=10, max_iter=200, lambda_reg=0.001, seed=SEED),\n",
    "    PMF(name='PMF k=15, lambda_reg=0.001', k=15, max_iter=200, lambda_reg=0.001, seed=SEED),\n",
    "    PMF(name='PMF k=5, lambda_reg=0.1', k=5, max_iter=200, lambda_reg=0.1, seed=SEED),\n",
    "    PMF(name='PMF k=10, lambda_reg=0.1', k=10, max_iter=200, lambda_reg=0.1, seed=SEED),\n",
    "    PMF(name='PMF k=15, lambda_reg=0.1', k=15, max_iter=200, lambda_reg=0.1, seed=SEED),\n",
    "    PMF(name='PMF k=5, lambda_reg=1', k=5, max_iter=200, lambda_reg=1, seed=SEED),\n",
    "    PMF(name='PMF k=10, lambda_reg=1', k=10, max_iter=200, lambda_reg=1, seed=SEED),\n",
    "    PMF(name='PMF k=15, lambda_reg=1', k=15, max_iter=200, lambda_reg=1, seed=SEED),\n",
    "]"
   ]
  },
  {
   "cell_type": "code",
   "execution_count": 28,
   "metadata": {},
   "outputs": [
    {
     "name": "stdout",
     "output_type": "stream",
     "text": [
      "\n",
      "TEST:\n",
      "...\n",
      "                           |    MAP | NDCG@10 | Precision@10 | Recall@10 | Train (s) | Test (s)\n",
      "-------------------------- + ------ + ------- + ------------ + --------- + --------- + --------\n",
      "PMF k=5, lambda_reg=0.001  | 0.0019 |  0.0019 |       0.0005 |    0.0039 |    5.5292 |  44.1669\n",
      "PMF k=10, lambda_reg=0.001 | 0.0017 |  0.0017 |       0.0005 |    0.0036 |    9.4754 |  47.0882\n",
      "PMF k=15, lambda_reg=0.001 | 0.0008 |  0.0005 |       0.0001 |    0.0011 |   14.2352 |  45.9387\n",
      "PMF k=5, lambda_reg=0.1    | 0.0007 |  0.0000 |       0.0000 |    0.0000 |    5.2613 |  45.3645\n",
      "PMF k=10, lambda_reg=0.1   | 0.0007 |  0.0000 |       0.0000 |    0.0000 |   10.0980 |  47.8467\n",
      "PMF k=15, lambda_reg=0.1   | 0.0007 |  0.0000 |       0.0000 |    0.0000 |   14.9663 |  47.6700\n",
      "PMF k=5, lambda_reg=1      | 0.0006 |  0.0002 |       0.0001 |    0.0005 |    5.5415 |  45.5808\n",
      "PMF k=10, lambda_reg=1     | 0.0008 |  0.0004 |       0.0001 |    0.0006 |   10.5913 |  47.4731\n",
      "PMF k=15, lambda_reg=1     | 0.0008 |  0.0003 |       0.0001 |    0.0005 |   13.9640 |  46.6447\n",
      "\n"
     ]
    }
   ],
   "source": [
    "cornac.Experiment(\n",
    "    eval_method=rs,\n",
    "    models=pmf_models,\n",
    "    metrics=metrics,\n",
    "    user_based=True,\n",
    "    save_dir=None,\n",
    ").run()"
   ]
  },
  {
   "cell_type": "markdown",
   "metadata": {},
   "source": [
    "### 3. BPR hyperparams optimization"
   ]
  },
  {
   "cell_type": "code",
   "execution_count": 29,
   "metadata": {},
   "outputs": [],
   "source": [
    "bpr_models = [\n",
    "    BPR(name='BPR k=10, lambda_reg=0.01', k=10, max_iter=200, lambda_reg=0.01, seed=SEED),\n",
    "    BPR(name='BPR k=50, lambda_reg=0.01', k=50, max_iter=200, lambda_reg=0.01, seed=SEED),\n",
    "    BPR(name='BPR k=100, lambda_reg=0.01', k=100, max_iter=200, lambda_reg=0.01, seed=SEED),\n",
    "    BPR(name='BPR k=10, lambda_reg=0.1', k=10, max_iter=200, lambda_reg=0.1, seed=SEED),\n",
    "    BPR(name='BPR k=50, lambda_reg=0.1', k=50, max_iter=200, lambda_reg=0.1, seed=SEED),\n",
    "    BPR(name='BPR k=100, lambda_reg=0.1', k=100, max_iter=200, lambda_reg=0.1, seed=SEED),\n",
    "    BPR(name='BPR k=10, lambda_reg=1', k=10, max_iter=200, lambda_reg=1, seed=SEED),\n",
    "    BPR(name='BPR k=50, lambda_reg=1', k=50, max_iter=200, lambda_reg=1, seed=SEED),\n",
    "    BPR(name='BPR k=100, lambda_reg=1', k=100, max_iter=200, lambda_reg=1, seed=SEED),\n",
    "]"
   ]
  },
  {
   "cell_type": "code",
   "execution_count": 30,
   "metadata": {},
   "outputs": [
    {
     "name": "stdout",
     "output_type": "stream",
     "text": [
      "\n",
      "TEST:\n",
      "...\n",
      "                           |    MAP | NDCG@10 | Precision@10 | Recall@10 | Train (s) | Test (s)\n",
      "-------------------------- + ------ + ------- + ------------ + --------- + --------- + --------\n",
      "BPR k=10, lambda_reg=0.01  | 0.0308 |  0.0312 |       0.0092 |    0.0561 |    3.9516 |  45.1212\n",
      "BPR k=50, lambda_reg=0.01  | 0.0309 |  0.0316 |       0.0094 |    0.0575 |    8.2983 |  57.4187\n",
      "BPR k=100, lambda_reg=0.01 | 0.0307 |  0.0313 |       0.0093 |    0.0566 |   11.7384 |  57.0230\n",
      "BPR k=10, lambda_reg=0.1   | 0.0307 |  0.0310 |       0.0090 |    0.0554 |    4.2672 |  47.3254\n",
      "BPR k=50, lambda_reg=0.1   | 0.0303 |  0.0308 |       0.0091 |    0.0565 |    8.4085 |  57.3794\n",
      "BPR k=100, lambda_reg=0.1  | 0.0281 |  0.0283 |       0.0087 |    0.0544 |   12.1549 |  55.3509\n",
      "BPR k=10, lambda_reg=1     | 0.0300 |  0.0307 |       0.0092 |    0.0560 |    3.9472 |  44.8775\n",
      "BPR k=50, lambda_reg=1     | 0.0299 |  0.0289 |       0.0081 |    0.0509 |    7.5961 |  52.7927\n",
      "BPR k=100, lambda_reg=1    | 0.0284 |  0.0291 |       0.0088 |    0.0550 |   10.7632 |  51.5316\n",
      "\n"
     ]
    }
   ],
   "source": [
    "cornac.Experiment(\n",
    "    eval_method=rs,\n",
    "    models=bpr_models,\n",
    "    metrics=metrics,\n",
    "    user_based=True,\n",
    "    save_dir=None,\n",
    ").run()"
   ]
  },
  {
   "cell_type": "markdown",
   "metadata": {},
   "source": [
    "### 4. BiVAECF hyperparams optimization"
   ]
  },
  {
   "cell_type": "code",
   "execution_count": null,
   "metadata": {},
   "outputs": [
    {
     "ename": "",
     "evalue": "",
     "output_type": "error",
     "traceback": [
      "\u001b[1;31mThe Kernel crashed while executing code in the current cell or a previous cell. \n",
      "\u001b[1;31mPlease review the code in the cell(s) to identify a possible cause of the failure. \n",
      "\u001b[1;31mClick <a href='https://aka.ms/vscodeJupyterKernelCrash'>here</a> for more info. \n",
      "\u001b[1;31mView Jupyter <a href='command:jupyter.viewOutput'>log</a> for further details."
     ]
    }
   ],
   "source": [
    "bivaecf_models = [\n",
    "    BiVAECF(name='BiVAECF k=10, encoder_structure=[20]', k=10, encoder_structure=[20], use_gpu=False, seed=SEED),\n",
    "    BiVAECF(name='BiVAECF k=20, encoder_structure=[20]', k=50, encoder_structure=[20], use_gpu=False, seed=SEED),\n",
    "    BiVAECF(name='BiVAECF k=30, encoder_structure=[20]', k=100, encoder_structure=[20], use_gpu=False, seed=SEED),\n",
    "    BiVAECF(name='BiVAECF k=10, encoder_structure=[40]', k=10, encoder_structure=[40], use_gpu=False, seed=SEED),\n",
    "    BiVAECF(name='BiVAECF k=50, encoder_structure=[40]', k=50, encoder_structure=[40], use_gpu=False, seed=SEED),\n",
    "    BiVAECF(name='BiVAECF k=100, encoder_structure=[40]', k=100, encoder_structure=[40], use_gpu=False, seed=SEED),\n",
    "]"
   ]
  },
  {
   "cell_type": "code",
   "execution_count": null,
   "metadata": {},
   "outputs": [
    {
     "name": "stderr",
     "output_type": "stream",
     "text": [
      "\n",
      "A module that was compiled using NumPy 1.x cannot be run in\n",
      "NumPy 2.1.3 as it may crash. To support both 1.x and 2.x\n",
      "versions of NumPy, modules must be compiled with NumPy 2.0.\n",
      "Some module may need to rebuild instead e.g. with 'pybind11>=2.12'.\n",
      "\n",
      "If you are a user of the module, the easiest solution will be to\n",
      "downgrade to 'numpy<2' or try to upgrade the affected module.\n",
      "We expect that some modules will need time to support NumPy 2.\n",
      "\n",
      "Traceback (most recent call last):  File \"<frozen runpy>\", line 198, in _run_module_as_main\n",
      "  File \"<frozen runpy>\", line 88, in _run_code\n",
      "  File \"/Users/a-shyraliev/.pyenv/versions/3.12.2/lib/python3.12/site-packages/ipykernel_launcher.py\", line 18, in <module>\n",
      "    app.launch_new_instance()\n",
      "  File \"/Users/a-shyraliev/.pyenv/versions/3.12.2/lib/python3.12/site-packages/traitlets/config/application.py\", line 1075, in launch_instance\n",
      "    app.start()\n",
      "  File \"/Users/a-shyraliev/.pyenv/versions/3.12.2/lib/python3.12/site-packages/ipykernel/kernelapp.py\", line 739, in start\n",
      "    self.io_loop.start()\n",
      "  File \"/Users/a-shyraliev/.pyenv/versions/3.12.2/lib/python3.12/site-packages/tornado/platform/asyncio.py\", line 205, in start\n",
      "    self.asyncio_loop.run_forever()\n",
      "  File \"/Users/a-shyraliev/.pyenv/versions/3.12.2/lib/python3.12/asyncio/base_events.py\", line 639, in run_forever\n",
      "    self._run_once()\n",
      "  File \"/Users/a-shyraliev/.pyenv/versions/3.12.2/lib/python3.12/asyncio/base_events.py\", line 1985, in _run_once\n",
      "    handle._run()\n",
      "  File \"/Users/a-shyraliev/.pyenv/versions/3.12.2/lib/python3.12/asyncio/events.py\", line 88, in _run\n",
      "    self._context.run(self._callback, *self._args)\n",
      "  File \"/Users/a-shyraliev/.pyenv/versions/3.12.2/lib/python3.12/site-packages/ipykernel/kernelbase.py\", line 545, in dispatch_queue\n",
      "    await self.process_one()\n",
      "  File \"/Users/a-shyraliev/.pyenv/versions/3.12.2/lib/python3.12/site-packages/ipykernel/kernelbase.py\", line 534, in process_one\n",
      "    await dispatch(*args)\n",
      "  File \"/Users/a-shyraliev/.pyenv/versions/3.12.2/lib/python3.12/site-packages/ipykernel/kernelbase.py\", line 437, in dispatch_shell\n",
      "    await result\n",
      "  File \"/Users/a-shyraliev/.pyenv/versions/3.12.2/lib/python3.12/site-packages/ipykernel/ipkernel.py\", line 362, in execute_request\n",
      "    await super().execute_request(stream, ident, parent)\n",
      "  File \"/Users/a-shyraliev/.pyenv/versions/3.12.2/lib/python3.12/site-packages/ipykernel/kernelbase.py\", line 778, in execute_request\n",
      "    reply_content = await reply_content\n",
      "  File \"/Users/a-shyraliev/.pyenv/versions/3.12.2/lib/python3.12/site-packages/ipykernel/ipkernel.py\", line 449, in do_execute\n",
      "    res = shell.run_cell(\n",
      "  File \"/Users/a-shyraliev/.pyenv/versions/3.12.2/lib/python3.12/site-packages/ipykernel/zmqshell.py\", line 549, in run_cell\n",
      "    return super().run_cell(*args, **kwargs)\n",
      "  File \"/Users/a-shyraliev/.pyenv/versions/3.12.2/lib/python3.12/site-packages/IPython/core/interactiveshell.py\", line 3075, in run_cell\n",
      "    result = self._run_cell(\n",
      "  File \"/Users/a-shyraliev/.pyenv/versions/3.12.2/lib/python3.12/site-packages/IPython/core/interactiveshell.py\", line 3130, in _run_cell\n",
      "    result = runner(coro)\n",
      "  File \"/Users/a-shyraliev/.pyenv/versions/3.12.2/lib/python3.12/site-packages/IPython/core/async_helpers.py\", line 129, in _pseudo_sync_runner\n",
      "    coro.send(None)\n",
      "  File \"/Users/a-shyraliev/.pyenv/versions/3.12.2/lib/python3.12/site-packages/IPython/core/interactiveshell.py\", line 3334, in run_cell_async\n",
      "    has_raised = await self.run_ast_nodes(code_ast.body, cell_name,\n",
      "  File \"/Users/a-shyraliev/.pyenv/versions/3.12.2/lib/python3.12/site-packages/IPython/core/interactiveshell.py\", line 3517, in run_ast_nodes\n",
      "    if await self.run_code(code, result, async_=asy):\n",
      "  File \"/Users/a-shyraliev/.pyenv/versions/3.12.2/lib/python3.12/site-packages/IPython/core/interactiveshell.py\", line 3577, in run_code\n",
      "    exec(code_obj, self.user_global_ns, self.user_ns)\n",
      "  File \"/var/folders/1_/vlsk20bs5c15fv226p4j88j40000gp/T/ipykernel_83057/889691386.py\", line 7, in <module>\n",
      "    ).run()\n",
      "  File \"/Users/a-shyraliev/.pyenv/versions/3.12.2/lib/python3.12/site-packages/cornac/experiment/experiment.py\", line 142, in run\n",
      "    test_result, val_result = self.eval_method.evaluate(\n",
      "  File \"/Users/a-shyraliev/.pyenv/versions/3.12.2/lib/python3.12/site-packages/cornac/eval_methods/base_method.py\", line 734, in evaluate\n",
      "    model.fit(self.train_set, self.val_set)\n",
      "  File \"/Users/a-shyraliev/.pyenv/versions/3.12.2/lib/python3.12/site-packages/cornac/models/bivaecf/recom_bivaecf.py\", line 133, in fit\n",
      "    import torch\n",
      "  File \"/Users/a-shyraliev/.pyenv/versions/3.12.2/lib/python3.12/site-packages/torch/__init__.py\", line 1471, in <module>\n",
      "    from .functional import *  # noqa: F403\n",
      "  File \"/Users/a-shyraliev/.pyenv/versions/3.12.2/lib/python3.12/site-packages/torch/functional.py\", line 9, in <module>\n",
      "    import torch.nn.functional as F\n",
      "  File \"/Users/a-shyraliev/.pyenv/versions/3.12.2/lib/python3.12/site-packages/torch/nn/__init__.py\", line 1, in <module>\n",
      "    from .modules import *  # noqa: F403\n",
      "  File \"/Users/a-shyraliev/.pyenv/versions/3.12.2/lib/python3.12/site-packages/torch/nn/modules/__init__.py\", line 35, in <module>\n",
      "    from .transformer import TransformerEncoder, TransformerDecoder, \\\n",
      "  File \"/Users/a-shyraliev/.pyenv/versions/3.12.2/lib/python3.12/site-packages/torch/nn/modules/transformer.py\", line 20, in <module>\n",
      "    device: torch.device = torch.device(torch._C._get_default_device()),  # torch.device('cpu'),\n",
      "/Users/a-shyraliev/.pyenv/versions/3.12.2/lib/python3.12/site-packages/torch/nn/modules/transformer.py:20: UserWarning: Failed to initialize NumPy: _ARRAY_API not found (Triggered internally at /Users/runner/work/pytorch/pytorch/pytorch/torch/csrc/utils/tensor_numpy.cpp:84.)\n",
      "  device: torch.device = torch.device(torch._C._get_default_device()),  # torch.device('cpu'),\n"
     ]
    }
   ],
   "source": [
    "cornac.Experiment(\n",
    "    eval_method=rs,\n",
    "    models=bivaecf_models,\n",
    "    metrics=metrics,\n",
    "    user_based=True,\n",
    "    save_dir=None,\n",
    ").run()"
   ]
  },
  {
   "cell_type": "markdown",
   "metadata": {},
   "source": [
    "### 5. RecVAE hyperparams optimization"
   ]
  },
  {
   "cell_type": "code",
   "execution_count": null,
   "metadata": {},
   "outputs": [],
   "source": [
    "recvae_models = [\n",
    "    RecVAE(name='RecVAE hidden_dim=600, latent_dim=100', hidden_dim=600, latent_dim=100, use_gpu=False, seed=SEED),\n",
    "    RecVAE(name='RecVAE hidden_dim=600, latent_dim=200', hidden_dim=600, latent_dim=200, use_gpu=False, seed=SEED),\n",
    "    RecVAE(name='RecVAE hidden_dim=600, latent_dim=300', hidden_dim=600, latent_dim=300, use_gpu=False, seed=SEED),\n",
    "    RecVAE(name='RecVAE hidden_dim=800, latent_dim=100', hidden_dim=800, latent_dim=100, use_gpu=False, seed=SEED),\n",
    "    RecVAE(name='RecVAE hidden_dim=800, latent_dim=200', hidden_dim=800, latent_dim=200, use_gpu=False, seed=SEED),\n",
    "    RecVAE(name='RecVAE hidden_dim=800, latent_dim=300', hidden_dim=800, latent_dim=300, use_gpu=False, seed=SEED),\n",
    "    RecVAE(name='RecVAE hidden_dim=1000, latent_dim=100', hidden_dim=1000, latent_dim=100, use_gpu=False, seed=SEED),\n",
    "    RecVAE(name='RecVAE hidden_dim=1000, latent_dim=200', hidden_dim=1000, latent_dim=200, use_gpu=False, seed=SEED),\n",
    "    RecVAE(name='RecVAE hidden_dim=1000, latent_dim=300', hidden_dim=1000, latent_dim=300, use_gpu=False, seed=SEED),\n",
    "]"
   ]
  },
  {
   "cell_type": "code",
   "execution_count": null,
   "metadata": {},
   "outputs": [
    {
     "name": "stdout",
     "output_type": "stream",
     "text": [
      "\n",
      "TEST:\n",
      "...\n",
      "                           |    MAP | NDCG@10 | Precision@10 | Recall@10 | Train (s) | Test (s)\n",
      "-------------------------- + ------ + ------- + ------------ + --------- + --------- + --------\n",
      "BPR k=10, lambda_reg=0.01  | 0.0306 |  0.0305 |       0.0091 |    0.0553 |    0.3570 |   1.8780\n",
      "BPR k=50, lambda_reg=0.01  | 0.0308 |  0.0306 |       0.0092 |    0.0550 |    0.4974 |   2.1731\n",
      "BPR k=100, lambda_reg=0.01 | 0.0307 |  0.0307 |       0.0091 |    0.0557 |    0.6450 |   2.1270\n",
      "BPR k=10, lambda_reg=0.1   | 0.0293 |  0.0294 |       0.0091 |    0.0548 |    0.3522 |   1.8634\n",
      "BPR k=50, lambda_reg=0.1   | 0.0308 |  0.0299 |       0.0089 |    0.0520 |    0.5152 |   2.1946\n",
      "BPR k=100, lambda_reg=0.1  | 0.0306 |  0.0300 |       0.0089 |    0.0535 |    0.6750 |   2.2065\n",
      "BPR k=10, lambda_reg=1     | 0.0304 |  0.0296 |       0.0088 |    0.0528 |    0.3588 |   1.7927\n",
      "BPR k=50, lambda_reg=1     | 0.0303 |  0.0301 |       0.0091 |    0.0543 |    0.4873 |   2.2372\n",
      "BPR k=100, lambda_reg=1    | 0.0292 |  0.0292 |       0.0089 |    0.0544 |    0.6592 |   2.1055\n",
      "\n"
     ]
    }
   ],
   "source": [
    "cornac.Experiment(\n",
    "    eval_method=rs,\n",
    "    models=recvae_models,\n",
    "    metrics=metrics,\n",
    "    user_based=True,\n",
    "    save_dir=None,\n",
    ").run()"
   ]
  },
  {
   "cell_type": "code",
   "execution_count": null,
   "metadata": {},
   "outputs": [],
   "source": []
  },
  {
   "cell_type": "code",
   "execution_count": null,
   "metadata": {},
   "outputs": [],
   "source": []
  },
  {
   "cell_type": "code",
   "execution_count": null,
   "metadata": {},
   "outputs": [],
   "source": []
  },
  {
   "cell_type": "code",
   "execution_count": null,
   "metadata": {},
   "outputs": [],
   "source": [
    "# (rs.train_set.csr_matrix.toarray() != 0).sum(1)"
   ]
  },
  {
   "cell_type": "code",
   "execution_count": null,
   "metadata": {},
   "outputs": [
    {
     "name": "stderr",
     "output_type": "stream",
     "text": [
      "/Users/a-shyraliev/.pyenv/versions/3.12.2/lib/python3.12/site-packages/cornac/data/dataset.py:335: UserWarning: 1 duplicated observations are removed!\n",
      "  warnings.warn(\"%d duplicated observations are removed!\" % dup_count)\n"
     ]
    },
    {
     "name": "stdout",
     "output_type": "stream",
     "text": [
      "\n",
      "TEST:\n",
      "...\n",
      "    |    MAP | NDCG@10 | Precision@10 | Recall@10 | Train (s) | Test (s)\n",
      "--- + ------ + ------- + ------------ + --------- + --------- + --------\n",
      "MF  |    nan |  0.0025 |       0.0008 |    0.0057 |   42.5482 | 175.5171\n",
      "PMF | 0.0029 |  0.0004 |       0.0001 |    0.0010 |  294.0087 | 197.7616\n",
      "BPR | 0.0654 |  0.0730 |       0.0191 |    0.1435 |  254.8315 | 199.4555\n",
      "\n"
     ]
    }
   ],
   "source": [
    "rs = RatioSplit(data=steam_recommendations, test_size=0.2, rating_threshold=0.0, seed=123)\n",
    "\n",
    "mf = MF(k=10, max_iter=200, learning_rate=0.01, lambda_reg=0.02, use_bias=True, seed=123)\n",
    "pmf = PMF(k=10, max_iter=200, learning_rate=0.001, lambda_reg=0.001, seed=123)\n",
    "bpr = BPR(k=10, max_iter=200, learning_rate=0.001, lambda_reg=0.01, seed=123)\n",
    "\n",
    "models = [mf, pmf, bpr]\n",
    "\n",
    "metrics = [Precision(k=10), Recall(k=10), NDCG(k=10), MAP()]\n",
    "\n",
    "cornac.Experiment(\n",
    "    eval_method=rs,\n",
    "    models=models,\n",
    "    metrics=metrics,\n",
    "    user_based=True,\n",
    "    save_dir=None,\n",
    ").run()"
   ]
  },
  {
   "cell_type": "code",
   "execution_count": null,
   "metadata": {},
   "outputs": [],
   "source": [
    "amzn_clothing = cornac.datasets.amazon_clothing.load_feedback()\n",
    "rs = RatioSplit(data=ml_20M, test_size=0.2, rating_threshold=0.0, seed=123)\n",
    "\n",
    "mf = MF(k=10, max_iter=200, learning_rate=0.01, lambda_reg=0.02, use_bias=True, seed=123)\n",
    "pmf = PMF(k=10, max_iter=200, learning_rate=0.001, lambda_reg=0.001, seed=123)\n",
    "bpr = BPR(k=10, max_iter=200, learning_rate=0.001, lambda_reg=0.01, seed=123)\n",
    "\n",
    "models = [mf, pmf, bpr]\n",
    "\n",
    "metrics = [Precision(k=10), Recall(k=10), NDCG(k=10), MAP()]\n",
    "\n",
    "cornac.Experiment(\n",
    "    eval_method=rs,\n",
    "    models=models,\n",
    "    metrics=metrics,\n",
    "    user_based=True,\n",
    "    save_dir=None,\n",
    ").run()"
   ]
  },
  {
   "cell_type": "code",
   "execution_count": null,
   "metadata": {},
   "outputs": [],
   "source": [
    "rs = RatioSplit(data=ml_20M, test_size=0.2, rating_threshold=0.0, seed=123)"
   ]
  },
  {
   "cell_type": "markdown",
   "metadata": {},
   "source": [
    "### 2. Initialize models, here we are comparing: Biased MF, PMF, and BPR"
   ]
  },
  {
   "cell_type": "code",
   "execution_count": null,
   "metadata": {},
   "outputs": [
    {
     "name": "stderr",
     "output_type": "stream",
     "text": [
      "\n",
      "A module that was compiled using NumPy 1.x cannot be run in\n",
      "NumPy 2.1.3 as it may crash. To support both 1.x and 2.x\n",
      "versions of NumPy, modules must be compiled with NumPy 2.0.\n",
      "Some module may need to rebuild instead e.g. with 'pybind11>=2.12'.\n",
      "\n",
      "If you are a user of the module, the easiest solution will be to\n",
      "downgrade to 'numpy<2' or try to upgrade the affected module.\n",
      "We expect that some modules will need time to support NumPy 2.\n",
      "\n",
      "Traceback (most recent call last):  File \"<frozen runpy>\", line 198, in _run_module_as_main\n",
      "  File \"<frozen runpy>\", line 88, in _run_code\n",
      "  File \"/Users/a-shyraliev/.pyenv/versions/3.12.2/lib/python3.12/site-packages/ipykernel_launcher.py\", line 18, in <module>\n",
      "    app.launch_new_instance()\n",
      "  File \"/Users/a-shyraliev/.pyenv/versions/3.12.2/lib/python3.12/site-packages/traitlets/config/application.py\", line 1075, in launch_instance\n",
      "    app.start()\n",
      "  File \"/Users/a-shyraliev/.pyenv/versions/3.12.2/lib/python3.12/site-packages/ipykernel/kernelapp.py\", line 739, in start\n",
      "    self.io_loop.start()\n",
      "  File \"/Users/a-shyraliev/.pyenv/versions/3.12.2/lib/python3.12/site-packages/tornado/platform/asyncio.py\", line 205, in start\n",
      "    self.asyncio_loop.run_forever()\n",
      "  File \"/Users/a-shyraliev/.pyenv/versions/3.12.2/lib/python3.12/asyncio/base_events.py\", line 639, in run_forever\n",
      "    self._run_once()\n",
      "  File \"/Users/a-shyraliev/.pyenv/versions/3.12.2/lib/python3.12/asyncio/base_events.py\", line 1985, in _run_once\n",
      "    handle._run()\n",
      "  File \"/Users/a-shyraliev/.pyenv/versions/3.12.2/lib/python3.12/asyncio/events.py\", line 88, in _run\n",
      "    self._context.run(self._callback, *self._args)\n",
      "  File \"/Users/a-shyraliev/.pyenv/versions/3.12.2/lib/python3.12/site-packages/ipykernel/kernelbase.py\", line 545, in dispatch_queue\n",
      "    await self.process_one()\n",
      "  File \"/Users/a-shyraliev/.pyenv/versions/3.12.2/lib/python3.12/site-packages/ipykernel/kernelbase.py\", line 534, in process_one\n",
      "    await dispatch(*args)\n",
      "  File \"/Users/a-shyraliev/.pyenv/versions/3.12.2/lib/python3.12/site-packages/ipykernel/kernelbase.py\", line 437, in dispatch_shell\n",
      "    await result\n",
      "  File \"/Users/a-shyraliev/.pyenv/versions/3.12.2/lib/python3.12/site-packages/ipykernel/ipkernel.py\", line 362, in execute_request\n",
      "    await super().execute_request(stream, ident, parent)\n",
      "  File \"/Users/a-shyraliev/.pyenv/versions/3.12.2/lib/python3.12/site-packages/ipykernel/kernelbase.py\", line 778, in execute_request\n",
      "    reply_content = await reply_content\n",
      "  File \"/Users/a-shyraliev/.pyenv/versions/3.12.2/lib/python3.12/site-packages/ipykernel/ipkernel.py\", line 449, in do_execute\n",
      "    res = shell.run_cell(\n",
      "  File \"/Users/a-shyraliev/.pyenv/versions/3.12.2/lib/python3.12/site-packages/ipykernel/zmqshell.py\", line 549, in run_cell\n",
      "    return super().run_cell(*args, **kwargs)\n",
      "  File \"/Users/a-shyraliev/.pyenv/versions/3.12.2/lib/python3.12/site-packages/IPython/core/interactiveshell.py\", line 3075, in run_cell\n",
      "    result = self._run_cell(\n",
      "  File \"/Users/a-shyraliev/.pyenv/versions/3.12.2/lib/python3.12/site-packages/IPython/core/interactiveshell.py\", line 3130, in _run_cell\n",
      "    result = runner(coro)\n",
      "  File \"/Users/a-shyraliev/.pyenv/versions/3.12.2/lib/python3.12/site-packages/IPython/core/async_helpers.py\", line 129, in _pseudo_sync_runner\n",
      "    coro.send(None)\n",
      "  File \"/Users/a-shyraliev/.pyenv/versions/3.12.2/lib/python3.12/site-packages/IPython/core/interactiveshell.py\", line 3334, in run_cell_async\n",
      "    has_raised = await self.run_ast_nodes(code_ast.body, cell_name,\n",
      "  File \"/Users/a-shyraliev/.pyenv/versions/3.12.2/lib/python3.12/site-packages/IPython/core/interactiveshell.py\", line 3517, in run_ast_nodes\n",
      "    if await self.run_code(code, result, async_=asy):\n",
      "  File \"/Users/a-shyraliev/.pyenv/versions/3.12.2/lib/python3.12/site-packages/IPython/core/interactiveshell.py\", line 3577, in run_code\n",
      "    exec(code_obj, self.user_global_ns, self.user_ns)\n",
      "  File \"/var/folders/1_/vlsk20bs5c15fv226p4j88j40000gp/T/ipykernel_9669/2856580991.py\", line 39, in <module>\n",
      "    recvae = RecVAE(\n",
      "  File \"/Users/a-shyraliev/.pyenv/versions/3.12.2/lib/python3.12/site-packages/cornac/models/recvae/recom_recvae.py\", line 120, in __init__\n",
      "    import torch\n",
      "  File \"/Users/a-shyraliev/.pyenv/versions/3.12.2/lib/python3.12/site-packages/torch/__init__.py\", line 1471, in <module>\n",
      "    from .functional import *  # noqa: F403\n",
      "  File \"/Users/a-shyraliev/.pyenv/versions/3.12.2/lib/python3.12/site-packages/torch/functional.py\", line 9, in <module>\n",
      "    import torch.nn.functional as F\n",
      "  File \"/Users/a-shyraliev/.pyenv/versions/3.12.2/lib/python3.12/site-packages/torch/nn/__init__.py\", line 1, in <module>\n",
      "    from .modules import *  # noqa: F403\n",
      "  File \"/Users/a-shyraliev/.pyenv/versions/3.12.2/lib/python3.12/site-packages/torch/nn/modules/__init__.py\", line 35, in <module>\n",
      "    from .transformer import TransformerEncoder, TransformerDecoder, \\\n",
      "  File \"/Users/a-shyraliev/.pyenv/versions/3.12.2/lib/python3.12/site-packages/torch/nn/modules/transformer.py\", line 20, in <module>\n",
      "    device: torch.device = torch.device(torch._C._get_default_device()),  # torch.device('cpu'),\n",
      "/Users/a-shyraliev/.pyenv/versions/3.12.2/lib/python3.12/site-packages/torch/nn/modules/transformer.py:20: UserWarning: Failed to initialize NumPy: _ARRAY_API not found (Triggered internally at /Users/runner/work/pytorch/pytorch/pytorch/torch/csrc/utils/tensor_numpy.cpp:84.)\n",
      "  device: torch.device = torch.device(torch._C._get_default_device()),  # torch.device('cpu'),\n"
     ]
    }
   ],
   "source": [
    "# mf = MF(k=10, max_iter=200, learning_rate=0.01, lambda_reg=0.02, use_bias=True, seed=123)\n",
    "# pmf = PMF(k=10, max_iter=200, learning_rate=0.001, lambda_reg=0.001, seed=123)\n",
    "# bpr = BPR(k=10, max_iter=200, learning_rate=0.001, lambda_reg=0.01, seed=123)\n",
    "sansa_cholmod = SANSA(\n",
    "    name=\"SANSA (CHOLMOD)\",\n",
    "    l2=500.0,\n",
    "    weight_matrix_density=1e-2,\n",
    "    compute_gramian=True,\n",
    "    factorizer_class=\"CHOLMOD\",\n",
    "    factorizer_shift_step=1e-3,\n",
    "    factorizer_shift_multiplier=2.0,\n",
    "    inverter_scans=5,\n",
    "    inverter_finetune_steps=20,\n",
    "    use_absolute_value_scores=False,\n",
    "    verbose=False,\n",
    ")\n",
    "\n",
    "sansa_icf = SANSA(\n",
    "    name=\"SANSA (ICF)\",\n",
    "    l2=10.0,\n",
    "    weight_matrix_density=1e-2,\n",
    "    compute_gramian=True,\n",
    "    factorizer_class=\"ICF\",\n",
    "    factorizer_shift_step=1e-3,\n",
    "    factorizer_shift_multiplier=2.0,\n",
    "    inverter_scans=5,\n",
    "    inverter_finetune_steps=20,\n",
    "    use_absolute_value_scores=False,\n",
    "    verbose=False,\n",
    ")\n",
    "\n",
    "bivaecf = BiVAECF(\n",
    "    k=10,\n",
    "    use_gpu=False,\n",
    ")\n",
    "\n",
    "lightgcn = LightGCN()\n",
    "\n",
    "# recvae = RecVAE(\n",
    "#     use_gpu=False,\n",
    "# )\n",
    "\n",
    "ease = EASE()\n",
    "\n",
    "ngcf = NGCF()\n",
    "\n",
    "# vaecf = VAECF(\n",
    "#     use_gpu=False,\n",
    "# )\n",
    "\n",
    "ibpr = IBPR()\n",
    "\n",
    "neumf = NeuMF()\n",
    "\n",
    "hpf = HPF()\n",
    "\n",
    "models = [sansa_cholmod, sansa_icf, mf, pmf, bpr, bivaecf, recvae, ease, vaecf, ibpr, neumf, hpf]# lightgcn, ngcf]"
   ]
  },
  {
   "cell_type": "markdown",
   "metadata": {},
   "source": [
    "### 3. Evaluation metrics"
   ]
  },
  {
   "cell_type": "code",
   "execution_count": 5,
   "metadata": {},
   "outputs": [],
   "source": [
    "metrics = [Precision(k=10), Recall(k=10), NDCG(k=10), MAP()]"
   ]
  },
  {
   "cell_type": "code",
   "execution_count": 8,
   "metadata": {},
   "outputs": [
    {
     "name": "stderr",
     "output_type": "stream",
     "text": [
      "INFO:sansa.core.factorizers:Computing incomplete Cholesky decomposition of X^TX + 500.0*I...\n",
      "WARNING:sansa.core.factorizers:\n",
      "                For low desired desired (1.000000%), computing exact factorization (CHOLMOD) \n",
      "                followed by sparsification may be inefficient.\n",
      "                You may want to try ICFGramianFactorizer instead of CHOLMODGramianFactorizer \n",
      "                (requires less memory and may be faster).\n",
      "                \n",
      "INFO:sansa.core.factorizers:Finding a fill-in reducing ordering (method = colamd)...\n",
      "INFO:sansa.core.factorizers:Computing approximate Cholesky decomposition (method = CHOLMOD)...\n",
      "INFO:sansa.core.factorizers:Dropping small entries in L (42.831549% dense, target = 1.000000%)...\n",
      "INFO:sansa.core.factorizers:Scaling columns and creating diagonal matrix D (LL^T -> L'DL'^T)...\n",
      "INFO:sansa.core.inverters:Calculating initial guess using 1 step of Schultz method...\n",
      "INFO:sansa.core.inverters:Calculating approximate inverse using Uniform Minimal Residual algorithm...\n"
     ]
    },
    {
     "name": "stdout",
     "output_type": "stream",
     "text": [
      "Computing LDL^T decomposition of permuted item-item matrix...\n",
      "Computing approximate inverse of L...\n"
     ]
    },
    {
     "name": "stderr",
     "output_type": "stream",
     "text": [
      "INFO:sansa.core._ops._inverse_ops:Current maximum residual: 10.131071105163123, relative Frobenius norm squared: 0.6055248249349813\n",
      "INFO:sansa.core._ops._inverse_ops:Performing UMR scan 1...\n",
      "INFO:sansa.core._ops._inverse_ops:Current maximum residual: 1.2457866332326708, relative Frobenius norm squared: 0.027941335053085103\n",
      "INFO:sansa.core._ops._inverse_ops:Performing UMR scan 2...\n",
      "INFO:sansa.core._ops._inverse_ops:Current maximum residual: 1.1095483615359882, relative Frobenius norm squared: 0.018554855430191287\n",
      "INFO:sansa.core._ops._inverse_ops:Performing UMR scan 3...\n",
      "INFO:sansa.core._ops._inverse_ops:Current maximum residual: 1.0999471088459514, relative Frobenius norm squared: 0.015755439699060094\n",
      "INFO:sansa.core._ops._inverse_ops:Performing UMR scan 4...\n",
      "INFO:sansa.core._ops._inverse_ops:Current maximum residual: 0.9496707834875402, relative Frobenius norm squared: 0.013191835991712673\n",
      "INFO:sansa.core._ops._inverse_ops:Performing UMR scan 5...\n",
      "INFO:sansa.core._ops._inverse_ops:Current maximum residual: 0.6360236853752421, relative Frobenius norm squared: 0.011320317841066527\n",
      "INFO:sansa.core._ops._inverse_ops:Performing UMR finetune step 1...\n",
      "INFO:sansa.core._ops._inverse_ops:Current maximum residual: 0.5084872016917293, relative Frobenius norm squared: 0.010883356955210385\n",
      "INFO:sansa.core._ops._inverse_ops:Performing UMR finetune step 2...\n",
      "INFO:sansa.core._ops._inverse_ops:Current maximum residual: 0.5048436020753108, relative Frobenius norm squared: 0.010789623214688234\n",
      "INFO:sansa.core._ops._inverse_ops:Performing UMR finetune step 3...\n",
      "INFO:sansa.core._ops._inverse_ops:Current maximum residual: 0.5025262136947682, relative Frobenius norm squared: 0.010750656338818495\n",
      "INFO:sansa.core._ops._inverse_ops:Performing UMR finetune step 4...\n",
      "INFO:sansa.core._ops._inverse_ops:Current maximum residual: 0.5010440069270959, relative Frobenius norm squared: 0.010700064555716296\n",
      "INFO:sansa.core._ops._inverse_ops:Performing UMR finetune step 5...\n",
      "INFO:sansa.core._ops._inverse_ops:Current maximum residual: 0.5000977389649176, relative Frobenius norm squared: 0.010685891180205994\n",
      "INFO:sansa.core._ops._inverse_ops:Performing UMR finetune step 6...\n",
      "INFO:sansa.core._ops._inverse_ops:Current maximum residual: 0.4994965610710442, relative Frobenius norm squared: 0.01065858959941568\n",
      "INFO:sansa.core._ops._inverse_ops:Performing UMR finetune step 7...\n",
      "INFO:sansa.core._ops._inverse_ops:Current maximum residual: 0.49911688251513453, relative Frobenius norm squared: 0.010653335363629373\n",
      "INFO:sansa.core._ops._inverse_ops:Performing UMR finetune step 8...\n",
      "INFO:sansa.core._ops._inverse_ops:Current maximum residual: 0.49887857460731383, relative Frobenius norm squared: 0.010636642130424919\n",
      "INFO:sansa.core._ops._inverse_ops:Performing UMR finetune step 9...\n",
      "INFO:sansa.core._ops._inverse_ops:Current maximum residual: 0.49872994482849575, relative Frobenius norm squared: 0.010631628908690767\n",
      "INFO:sansa.core._ops._inverse_ops:Performing UMR finetune step 10...\n",
      "INFO:sansa.core._ops._inverse_ops:Current maximum residual: 0.4986378745178659, relative Frobenius norm squared: 0.010630669122040687\n",
      "INFO:sansa.core._ops._inverse_ops:Performing UMR finetune step 11...\n",
      "INFO:sansa.core._ops._inverse_ops:Current maximum residual: 0.49858129238583465, relative Frobenius norm squared: 0.010630181929202792\n",
      "INFO:sansa.core._ops._inverse_ops:Performing UMR finetune step 12...\n",
      "INFO:sansa.core._ops._inverse_ops:Current maximum residual: 0.49854682490592234, relative Frobenius norm squared: 0.010629934206439377\n",
      "INFO:sansa.core._ops._inverse_ops:Performing UMR finetune step 13...\n",
      "INFO:sansa.core._ops._inverse_ops:Current maximum residual: 0.49852607193083615, relative Frobenius norm squared: 0.010629807652995689\n",
      "INFO:sansa.core._ops._inverse_ops:Performing UMR finetune step 14...\n",
      "INFO:sansa.core._ops._inverse_ops:Current maximum residual: 0.49851374029420786, relative Frobenius norm squared: 0.010629742406004849\n",
      "INFO:sansa.core._ops._inverse_ops:Performing UMR finetune step 15...\n",
      "INFO:sansa.core._ops._inverse_ops:Current maximum residual: 0.4985065551623725, relative Frobenius norm squared: 0.01062970823294471\n",
      "INFO:sansa.core._ops._inverse_ops:Performing UMR finetune step 16...\n",
      "INFO:sansa.core._ops._inverse_ops:Current maximum residual: 0.4985024710648008, relative Frobenius norm squared: 0.010629689896055691\n",
      "INFO:sansa.core._ops._inverse_ops:Performing UMR finetune step 17...\n",
      "INFO:sansa.core._ops._inverse_ops:Current maximum residual: 0.4985002242917299, relative Frobenius norm squared: 0.01062967973746321\n",
      "INFO:sansa.core._ops._inverse_ops:Performing UMR finetune step 18...\n",
      "INFO:sansa.core._ops._inverse_ops:Current maximum residual: 0.49849905350351187, relative Frobenius norm squared: 0.010629673889045597\n",
      "INFO:sansa.core._ops._inverse_ops:Performing UMR finetune step 19...\n",
      "INFO:sansa.core._ops._inverse_ops:Current maximum residual: 0.49849850812479274, relative Frobenius norm squared: 0.010629670351200065\n",
      "INFO:sansa.core._ops._inverse_ops:Performing UMR finetune step 20...\n",
      "INFO:sansa.core.inverters:Current maximum residual: 0.49849828452219885, relative Frobenius norm squared: 0.010629668138515645\n",
      "INFO:sansa.core.factorizers:Computing incomplete Cholesky decomposition of X^TX + 10.0*I...\n",
      "INFO:sansa.core.factorizers:Finding a fill-in reducing ordering (method = colamd)...\n",
      "INFO:sansa.core.factorizers:Computing X^TX...\n",
      "INFO:sansa.core.factorizers:\n",
      "                X^TX info:\n",
      "                    shape = (1656, 1656) \n",
      "                    nnz = 1722862 \n",
      "                    density = 62.824614% \n",
      "                    size = 13.8 MB\n",
      "                \n",
      "WARNING:sansa.core.factorizers:\n",
      "                Attempting incomplete factorization of a relatively dense matrix (62.824614% dense). \n",
      "                This is unstable:\n",
      "                 - the factorization might fail and automatically restart with additional regularization\n",
      "                 - the resulting approximate factor might be of lesser quality\n",
      "                You may want to try CHOLMODGramianFactorizer instead of ICFGramianFactorizer \n",
      "                (requires more memory but is likely faster and more accurate).\n",
      "                \n",
      "INFO:sansa.core.factorizers:Sorting indices of A...\n",
      "INFO:sansa.core.factorizers:Casting indptr of A to int64...\n",
      "INFO:sansa.core.factorizers:Casting indices of A to int64...\n"
     ]
    },
    {
     "name": "stdout",
     "output_type": "stream",
     "text": [
      "Computing LDL^T decomposition of permuted item-item matrix...\n"
     ]
    },
    {
     "name": "stderr",
     "output_type": "stream",
     "text": [
      "INFO:sansa.core.factorizers:Computing approximate Cholesky decomposition (method = ICF)...\n",
      "INFO:sansa.core.factorizers:Scaling columns and creating diagonal matrix D (LL^T -> L'DL'^T)...\n",
      "INFO:sansa.core.inverters:Calculating initial guess using 1 step of Schultz method...\n",
      "INFO:sansa.core.inverters:Calculating approximate inverse using Uniform Minimal Residual algorithm...\n",
      "INFO:sansa.core._ops._inverse_ops:Current maximum residual: 0.0031312673818320036, relative Frobenius norm squared: 7.613023740304925e-07\n",
      "INFO:sansa.core._ops._inverse_ops:Performing UMR scan 1...\n",
      "INFO:sansa.core._ops._inverse_ops:Current maximum residual: 0.0031312673818320036, relative Frobenius norm squared: 7.613023740304925e-07\n",
      "INFO:sansa.core._ops._inverse_ops:Performing UMR scan 2...\n",
      "INFO:sansa.core._ops._inverse_ops:Current maximum residual: 0.0031312673818320036, relative Frobenius norm squared: 7.613023740304925e-07\n",
      "INFO:sansa.core._ops._inverse_ops:Performing UMR scan 3...\n"
     ]
    },
    {
     "name": "stdout",
     "output_type": "stream",
     "text": [
      "Computing approximate inverse of L...\n"
     ]
    },
    {
     "name": "stderr",
     "output_type": "stream",
     "text": [
      "INFO:sansa.core._ops._inverse_ops:Current maximum residual: 0.0031312673818320036, relative Frobenius norm squared: 7.613023740304925e-07\n",
      "INFO:sansa.core._ops._inverse_ops:Performing UMR scan 4...\n",
      "INFO:sansa.core._ops._inverse_ops:Current maximum residual: 0.0015427451580762863, relative Frobenius norm squared: 3.3410395872124354e-07\n",
      "INFO:sansa.core._ops._inverse_ops:Performing UMR scan 5...\n",
      "INFO:sansa.core._ops._inverse_ops:Current maximum residual: 0.0015363885322585702, relative Frobenius norm squared: 3.223801172680396e-07\n",
      "INFO:sansa.core._ops._inverse_ops:Performing UMR finetune step 1...\n",
      "INFO:sansa.core._ops._inverse_ops:Current maximum residual: 0.0015363885322585702, relative Frobenius norm squared: 3.223800035812019e-07\n",
      "INFO:sansa.core._ops._inverse_ops:Performing UMR finetune step 2...\n",
      "INFO:sansa.core._ops._inverse_ops:Current maximum residual: 0.0015363885322585702, relative Frobenius norm squared: 3.223800035812019e-07\n",
      "INFO:sansa.core._ops._inverse_ops:Performing UMR finetune step 3...\n",
      "INFO:sansa.core._ops._inverse_ops:Current maximum residual: 0.0015363885322585702, relative Frobenius norm squared: 3.223800035812019e-07\n",
      "INFO:sansa.core._ops._inverse_ops:Performing UMR finetune step 4...\n",
      "INFO:sansa.core._ops._inverse_ops:Current maximum residual: 0.0015363885322585702, relative Frobenius norm squared: 3.223800035812019e-07\n",
      "INFO:sansa.core._ops._inverse_ops:Performing UMR finetune step 5...\n",
      "INFO:sansa.core._ops._inverse_ops:Current maximum residual: 0.0015363885322585702, relative Frobenius norm squared: 3.223800035812019e-07\n",
      "INFO:sansa.core._ops._inverse_ops:Performing UMR finetune step 6...\n",
      "INFO:sansa.core._ops._inverse_ops:Current maximum residual: 0.0015363885322585702, relative Frobenius norm squared: 3.223800035812019e-07\n",
      "INFO:sansa.core._ops._inverse_ops:Performing UMR finetune step 7...\n",
      "INFO:sansa.core._ops._inverse_ops:Current maximum residual: 0.0015363885322585702, relative Frobenius norm squared: 3.223800035812019e-07\n",
      "INFO:sansa.core._ops._inverse_ops:Performing UMR finetune step 8...\n",
      "INFO:sansa.core._ops._inverse_ops:Current maximum residual: 0.0015363885322585702, relative Frobenius norm squared: 3.223800035812019e-07\n",
      "INFO:sansa.core._ops._inverse_ops:Performing UMR finetune step 9...\n",
      "INFO:sansa.core._ops._inverse_ops:Current maximum residual: 0.0015363885322585702, relative Frobenius norm squared: 3.223800035812019e-07\n",
      "INFO:sansa.core._ops._inverse_ops:Performing UMR finetune step 10...\n",
      "INFO:sansa.core._ops._inverse_ops:Current maximum residual: 0.0015363885322585702, relative Frobenius norm squared: 3.223800035812019e-07\n",
      "INFO:sansa.core._ops._inverse_ops:Performing UMR finetune step 11...\n",
      "INFO:sansa.core._ops._inverse_ops:Current maximum residual: 0.0015363885322585702, relative Frobenius norm squared: 3.223800035812019e-07\n",
      "INFO:sansa.core._ops._inverse_ops:Performing UMR finetune step 12...\n",
      "INFO:sansa.core._ops._inverse_ops:Current maximum residual: 0.0015363885322585702, relative Frobenius norm squared: 3.223800035812019e-07\n",
      "INFO:sansa.core._ops._inverse_ops:Performing UMR finetune step 13...\n",
      "INFO:sansa.core._ops._inverse_ops:Current maximum residual: 0.0015363885322585702, relative Frobenius norm squared: 3.223800035812019e-07\n",
      "INFO:sansa.core._ops._inverse_ops:Performing UMR finetune step 14...\n",
      "INFO:sansa.core._ops._inverse_ops:Current maximum residual: 0.0015363885322585702, relative Frobenius norm squared: 3.223800035812019e-07\n",
      "INFO:sansa.core._ops._inverse_ops:Performing UMR finetune step 15...\n",
      "INFO:sansa.core._ops._inverse_ops:Current maximum residual: 0.0015363885322585702, relative Frobenius norm squared: 3.223800035812019e-07\n",
      "INFO:sansa.core._ops._inverse_ops:Performing UMR finetune step 16...\n",
      "INFO:sansa.core._ops._inverse_ops:Current maximum residual: 0.0015363885322585702, relative Frobenius norm squared: 3.223800035812019e-07\n",
      "INFO:sansa.core._ops._inverse_ops:Performing UMR finetune step 17...\n",
      "INFO:sansa.core._ops._inverse_ops:Current maximum residual: 0.0015363885322585702, relative Frobenius norm squared: 3.223800035812019e-07\n",
      "INFO:sansa.core._ops._inverse_ops:Performing UMR finetune step 18...\n",
      "INFO:sansa.core._ops._inverse_ops:Current maximum residual: 0.0015363885322585702, relative Frobenius norm squared: 3.223800035812019e-07\n",
      "INFO:sansa.core._ops._inverse_ops:Performing UMR finetune step 19...\n",
      "INFO:sansa.core._ops._inverse_ops:Current maximum residual: 0.0015363885322585702, relative Frobenius norm squared: 3.223800035812019e-07\n",
      "INFO:sansa.core._ops._inverse_ops:Performing UMR finetune step 20...\n",
      "INFO:sansa.core.inverters:Current maximum residual: 0.0015363885322585702, relative Frobenius norm squared: 3.223800035812019e-07\n",
      "100%|██████████| 20/20 [03:19<00:00,  9.95s/it, loss=0.246]\n"
     ]
    },
    {
     "name": "stdout",
     "output_type": "stream",
     "text": [
      "Learning...\n",
      "Learning completed!\n",
      "\n",
      "TEST:\n",
      "...\n",
      "                |    MAP | NDCG@10 | Precision@10 | Recall@10 | Train (s) | Test (s)\n",
      "--------------- + ------ + ------- + ------------ + --------- + --------- + --------\n",
      "SANSA (CHOLMOD) | 0.2278 |  0.3272 |       0.2257 |    0.2660 |   26.8414 |   0.4076\n",
      "SANSA (ICF)     | 0.2192 |  0.2930 |       0.2053 |    0.2343 |   13.1919 |   0.4110\n",
      "MF              | 0.0290 |  0.0214 |       0.0218 |    0.0165 |    0.1259 |   0.3081\n",
      "PMF             | 0.0538 |  0.0744 |       0.0618 |    0.0493 |    2.1268 |   0.2803\n",
      "BPR             | 0.1022 |  0.1435 |       0.1077 |    0.1214 |    1.0798 |   0.2892\n",
      "BiVAECF         | 0.1409 |  0.1857 |       0.1413 |    0.1555 |    9.6529 |   0.2986\n",
      "RecVae          | 0.1267 |  0.1621 |       0.1259 |    0.1476 |   41.5360 |   0.6625\n",
      "EASEᴿ           | 0.1743 |  0.2327 |       0.1630 |    0.2078 |    0.1129 |   0.3610\n",
      "VAECF           | 0.1523 |  0.2047 |       0.1549 |    0.1706 |    3.8085 |   0.3938\n",
      "IBPR            | 0.0978 |  0.1132 |       0.0952 |    0.0894 |  167.9719 |   0.2807\n",
      "NeuMF           | 0.1631 |  0.2104 |       0.1578 |    0.1845 |  203.5142 |   3.8634\n",
      "HPF             | 0.1663 |  0.2332 |       0.1746 |    0.1793 |    4.3682 |   0.2893\n",
      "\n"
     ]
    }
   ],
   "source": [
    "cornac.Experiment(\n",
    "    eval_method=rs,\n",
    "    models=models,\n",
    "    metrics=metrics,\n",
    "    user_based=True,\n",
    "    save_dir=None,\n",
    ").run()"
   ]
  },
  {
   "cell_type": "code",
   "execution_count": 3,
   "metadata": {},
   "outputs": [],
   "source": [
    "ml_100k = cornac.datasets.movielens.load_feedback()\n"
   ]
  },
  {
   "cell_type": "code",
   "execution_count": null,
   "metadata": {},
   "outputs": [
    {
     "name": "stderr",
     "output_type": "stream",
     "text": [
      "INFO:sansa.core.factorizers:Computing incomplete Cholesky decomposition of X^TX + 10.0*I...\n",
      "INFO:sansa.core.factorizers:Finding a fill-in reducing ordering (method = colamd)...\n",
      "INFO:sansa.core.factorizers:Computing X^TX...\n",
      "INFO:sansa.core.factorizers:\n",
      "                X^TX info:\n",
      "                    shape = (1656, 1656) \n",
      "                    nnz = 1722862 \n",
      "                    density = 62.824614% \n",
      "                    size = 13.8 MB\n",
      "                \n",
      "WARNING:sansa.core.factorizers:\n",
      "                Attempting incomplete factorization of a relatively dense matrix (62.824614% dense). \n",
      "                This is unstable:\n",
      "                 - the factorization might fail and automatically restart with additional regularization\n",
      "                 - the resulting approximate factor might be of lesser quality\n",
      "                You may want to try CHOLMODGramianFactorizer instead of ICFGramianFactorizer \n",
      "                (requires more memory but is likely faster and more accurate).\n",
      "                \n",
      "INFO:sansa.core.factorizers:Sorting indices of A...\n",
      "INFO:sansa.core.factorizers:Casting indptr of A to int64...\n",
      "INFO:sansa.core.factorizers:Casting indices of A to int64...\n",
      "INFO:sansa.core.factorizers:Computing approximate Cholesky decomposition (method = ICF)...\n",
      "INFO:sansa.core.factorizers:Scaling columns and creating diagonal matrix D (LL^T -> L'DL'^T)...\n",
      "INFO:sansa.core.inverters:Calculating initial guess using 1 step of Schultz method...\n",
      "INFO:sansa.core.inverters:Calculating approximate inverse using Uniform Minimal Residual algorithm...\n",
      "INFO:sansa.core._ops._inverse_ops:Current maximum residual: 0.0028751741629093885, relative Frobenius norm squared: 7.577542078252009e-07\n",
      "INFO:sansa.core._ops._inverse_ops:Performing UMR scan 1...\n",
      "INFO:sansa.core._ops._inverse_ops:Current maximum residual: 0.0028751741629093885, relative Frobenius norm squared: 7.577542078252009e-07\n",
      "INFO:sansa.core._ops._inverse_ops:Performing UMR scan 2...\n",
      "INFO:sansa.core._ops._inverse_ops:Current maximum residual: 0.0028751741629093885, relative Frobenius norm squared: 7.577542078252009e-07\n",
      "INFO:sansa.core._ops._inverse_ops:Performing UMR scan 3...\n",
      "INFO:sansa.core._ops._inverse_ops:Current maximum residual: 0.0028751741629093885, relative Frobenius norm squared: 7.577542078252009e-07\n",
      "INFO:sansa.core._ops._inverse_ops:Performing UMR scan 4...\n",
      "INFO:sansa.core._ops._inverse_ops:Current maximum residual: 0.0015162053750827909, relative Frobenius norm squared: 3.568263196029875e-07\n",
      "INFO:sansa.core._ops._inverse_ops:Performing UMR scan 5...\n",
      "INFO:sansa.core._ops._inverse_ops:Current maximum residual: 0.0015123877674341202, relative Frobenius norm squared: 3.4567688089737203e-07\n",
      "INFO:sansa.core._ops._inverse_ops:Performing UMR finetune step 1...\n",
      "INFO:sansa.core._ops._inverse_ops:Current maximum residual: 0.0015123877674341202, relative Frobenius norm squared: 3.4567679563224374e-07\n",
      "INFO:sansa.core._ops._inverse_ops:Performing UMR finetune step 2...\n",
      "INFO:sansa.core._ops._inverse_ops:Current maximum residual: 0.0015123877674341202, relative Frobenius norm squared: 3.4567679563224374e-07\n",
      "INFO:sansa.core._ops._inverse_ops:Performing UMR finetune step 3...\n",
      "INFO:sansa.core._ops._inverse_ops:Current maximum residual: 0.0015123877674341202, relative Frobenius norm squared: 3.4567679563224374e-07\n",
      "INFO:sansa.core._ops._inverse_ops:Performing UMR finetune step 4...\n",
      "INFO:sansa.core._ops._inverse_ops:Current maximum residual: 0.0015123877674341202, relative Frobenius norm squared: 3.4567679563224374e-07\n",
      "INFO:sansa.core._ops._inverse_ops:Performing UMR finetune step 5...\n",
      "INFO:sansa.core._ops._inverse_ops:Current maximum residual: 0.0015123877674341202, relative Frobenius norm squared: 3.4567679563224374e-07\n",
      "INFO:sansa.core._ops._inverse_ops:Performing UMR finetune step 6...\n",
      "INFO:sansa.core._ops._inverse_ops:Current maximum residual: 0.0015123877674341202, relative Frobenius norm squared: 3.4567679563224374e-07\n",
      "INFO:sansa.core._ops._inverse_ops:Performing UMR finetune step 7...\n",
      "INFO:sansa.core._ops._inverse_ops:Current maximum residual: 0.0015123877674341202, relative Frobenius norm squared: 3.4567679563224374e-07\n",
      "INFO:sansa.core._ops._inverse_ops:Performing UMR finetune step 8...\n",
      "INFO:sansa.core._ops._inverse_ops:Current maximum residual: 0.0015123877674341202, relative Frobenius norm squared: 3.4567679563224374e-07\n",
      "INFO:sansa.core._ops._inverse_ops:Performing UMR finetune step 9...\n",
      "INFO:sansa.core._ops._inverse_ops:Current maximum residual: 0.0015123877674341202, relative Frobenius norm squared: 3.4567679563224374e-07\n",
      "INFO:sansa.core._ops._inverse_ops:Performing UMR finetune step 10...\n",
      "INFO:sansa.core._ops._inverse_ops:Current maximum residual: 0.0015123877674341202, relative Frobenius norm squared: 3.4567679563224374e-07\n",
      "INFO:sansa.core._ops._inverse_ops:Performing UMR finetune step 11...\n",
      "INFO:sansa.core._ops._inverse_ops:Current maximum residual: 0.0015123877674341202, relative Frobenius norm squared: 3.4567679563224374e-07\n",
      "INFO:sansa.core._ops._inverse_ops:Performing UMR finetune step 12...\n",
      "INFO:sansa.core._ops._inverse_ops:Current maximum residual: 0.0015123877674341202, relative Frobenius norm squared: 3.4567679563224374e-07\n",
      "INFO:sansa.core._ops._inverse_ops:Performing UMR finetune step 13...\n",
      "INFO:sansa.core._ops._inverse_ops:Current maximum residual: 0.0015123877674341202, relative Frobenius norm squared: 3.4567679563224374e-07\n",
      "INFO:sansa.core._ops._inverse_ops:Performing UMR finetune step 14...\n",
      "INFO:sansa.core._ops._inverse_ops:Current maximum residual: 0.0015123877674341202, relative Frobenius norm squared: 3.4567679563224374e-07\n",
      "INFO:sansa.core._ops._inverse_ops:Performing UMR finetune step 15...\n",
      "INFO:sansa.core._ops._inverse_ops:Current maximum residual: 0.0015123877674341202, relative Frobenius norm squared: 3.4567679563224374e-07\n",
      "INFO:sansa.core._ops._inverse_ops:Performing UMR finetune step 16...\n",
      "INFO:sansa.core._ops._inverse_ops:Current maximum residual: 0.0015123877674341202, relative Frobenius norm squared: 3.4567679563224374e-07\n",
      "INFO:sansa.core._ops._inverse_ops:Performing UMR finetune step 17...\n",
      "INFO:sansa.core._ops._inverse_ops:Current maximum residual: 0.0015123877674341202, relative Frobenius norm squared: 3.4567679563224374e-07\n",
      "INFO:sansa.core._ops._inverse_ops:Performing UMR finetune step 18...\n",
      "INFO:sansa.core._ops._inverse_ops:Current maximum residual: 0.0015123877674341202, relative Frobenius norm squared: 3.4567679563224374e-07\n",
      "INFO:sansa.core._ops._inverse_ops:Performing UMR finetune step 19...\n",
      "INFO:sansa.core._ops._inverse_ops:Current maximum residual: 0.0015123877674341202, relative Frobenius norm squared: 3.4567679563224374e-07\n",
      "INFO:sansa.core._ops._inverse_ops:Performing UMR finetune step 20...\n",
      "INFO:sansa.core.inverters:Current maximum residual: 0.0015123877674341202, relative Frobenius norm squared: 3.4567679563224374e-07\n"
     ]
    }
   ],
   "source": [
    "models = [sansa_icf, mf, pmf, bpr, bivaecf, recvae, ease, vaecf, ibpr, neumf, hpf]\n",
    "\n",
    "cornac.Experiment(\n",
    "    eval_method=rs_mod,\n",
    "    models=models,\n",
    "    metrics=metrics,\n",
    "    user_based=True,\n",
    "    save_dir=None,\n",
    ").run()"
   ]
  },
  {
   "cell_type": "code",
   "execution_count": null,
   "metadata": {},
   "outputs": [],
   "source": []
  },
  {
   "cell_type": "code",
   "execution_count": null,
   "metadata": {},
   "outputs": [],
   "source": []
  },
  {
   "cell_type": "code",
   "execution_count": 2,
   "metadata": {},
   "outputs": [
    {
     "data": {
      "text/plain": [
       "'2.2.0'"
      ]
     },
     "execution_count": 2,
     "metadata": {},
     "output_type": "execute_result"
    }
   ],
   "source": [
    "import torch\n",
    "torch.__version__"
   ]
  },
  {
   "cell_type": "code",
   "execution_count": 1,
   "metadata": {},
   "outputs": [
    {
     "name": "stderr",
     "output_type": "stream",
     "text": [
      "\n",
      "A module that was compiled using NumPy 1.x cannot be run in\n",
      "NumPy 2.1.3 as it may crash. To support both 1.x and 2.x\n",
      "versions of NumPy, modules must be compiled with NumPy 2.0.\n",
      "Some module may need to rebuild instead e.g. with 'pybind11>=2.12'.\n",
      "\n",
      "If you are a user of the module, the easiest solution will be to\n",
      "downgrade to 'numpy<2' or try to upgrade the affected module.\n",
      "We expect that some modules will need time to support NumPy 2.\n",
      "\n",
      "Traceback (most recent call last):  File \"<frozen runpy>\", line 198, in _run_module_as_main\n",
      "  File \"<frozen runpy>\", line 88, in _run_code\n",
      "  File \"/Users/a-shyraliev/.pyenv/versions/3.12.2/lib/python3.12/site-packages/ipykernel_launcher.py\", line 18, in <module>\n",
      "    app.launch_new_instance()\n",
      "  File \"/Users/a-shyraliev/.pyenv/versions/3.12.2/lib/python3.12/site-packages/traitlets/config/application.py\", line 1075, in launch_instance\n",
      "    app.start()\n",
      "  File \"/Users/a-shyraliev/.pyenv/versions/3.12.2/lib/python3.12/site-packages/ipykernel/kernelapp.py\", line 739, in start\n",
      "    self.io_loop.start()\n",
      "  File \"/Users/a-shyraliev/.pyenv/versions/3.12.2/lib/python3.12/site-packages/tornado/platform/asyncio.py\", line 205, in start\n",
      "    self.asyncio_loop.run_forever()\n",
      "  File \"/Users/a-shyraliev/.pyenv/versions/3.12.2/lib/python3.12/asyncio/base_events.py\", line 639, in run_forever\n",
      "    self._run_once()\n",
      "  File \"/Users/a-shyraliev/.pyenv/versions/3.12.2/lib/python3.12/asyncio/base_events.py\", line 1985, in _run_once\n",
      "    handle._run()\n",
      "  File \"/Users/a-shyraliev/.pyenv/versions/3.12.2/lib/python3.12/asyncio/events.py\", line 88, in _run\n",
      "    self._context.run(self._callback, *self._args)\n",
      "  File \"/Users/a-shyraliev/.pyenv/versions/3.12.2/lib/python3.12/site-packages/ipykernel/kernelbase.py\", line 545, in dispatch_queue\n",
      "    await self.process_one()\n",
      "  File \"/Users/a-shyraliev/.pyenv/versions/3.12.2/lib/python3.12/site-packages/ipykernel/kernelbase.py\", line 534, in process_one\n",
      "    await dispatch(*args)\n",
      "  File \"/Users/a-shyraliev/.pyenv/versions/3.12.2/lib/python3.12/site-packages/ipykernel/kernelbase.py\", line 437, in dispatch_shell\n",
      "    await result\n",
      "  File \"/Users/a-shyraliev/.pyenv/versions/3.12.2/lib/python3.12/site-packages/ipykernel/ipkernel.py\", line 362, in execute_request\n",
      "    await super().execute_request(stream, ident, parent)\n",
      "  File \"/Users/a-shyraliev/.pyenv/versions/3.12.2/lib/python3.12/site-packages/ipykernel/kernelbase.py\", line 778, in execute_request\n",
      "    reply_content = await reply_content\n",
      "  File \"/Users/a-shyraliev/.pyenv/versions/3.12.2/lib/python3.12/site-packages/ipykernel/ipkernel.py\", line 449, in do_execute\n",
      "    res = shell.run_cell(\n",
      "  File \"/Users/a-shyraliev/.pyenv/versions/3.12.2/lib/python3.12/site-packages/ipykernel/zmqshell.py\", line 549, in run_cell\n",
      "    return super().run_cell(*args, **kwargs)\n",
      "  File \"/Users/a-shyraliev/.pyenv/versions/3.12.2/lib/python3.12/site-packages/IPython/core/interactiveshell.py\", line 3075, in run_cell\n",
      "    result = self._run_cell(\n",
      "  File \"/Users/a-shyraliev/.pyenv/versions/3.12.2/lib/python3.12/site-packages/IPython/core/interactiveshell.py\", line 3130, in _run_cell\n",
      "    result = runner(coro)\n",
      "  File \"/Users/a-shyraliev/.pyenv/versions/3.12.2/lib/python3.12/site-packages/IPython/core/async_helpers.py\", line 129, in _pseudo_sync_runner\n",
      "    coro.send(None)\n",
      "  File \"/Users/a-shyraliev/.pyenv/versions/3.12.2/lib/python3.12/site-packages/IPython/core/interactiveshell.py\", line 3334, in run_cell_async\n",
      "    has_raised = await self.run_ast_nodes(code_ast.body, cell_name,\n",
      "  File \"/Users/a-shyraliev/.pyenv/versions/3.12.2/lib/python3.12/site-packages/IPython/core/interactiveshell.py\", line 3517, in run_ast_nodes\n",
      "    if await self.run_code(code, result, async_=asy):\n",
      "  File \"/Users/a-shyraliev/.pyenv/versions/3.12.2/lib/python3.12/site-packages/IPython/core/interactiveshell.py\", line 3577, in run_code\n",
      "    exec(code_obj, self.user_global_ns, self.user_ns)\n",
      "  File \"/var/folders/1_/vlsk20bs5c15fv226p4j88j40000gp/T/ipykernel_95161/2122612781.py\", line 1, in <module>\n",
      "    import dgl\n",
      "  File \"/Users/a-shyraliev/.pyenv/versions/3.12.2/lib/python3.12/site-packages/dgl/__init__.py\", line 14, in <module>\n",
      "    from .backend import backend_name, load_backend  # usort: skip\n",
      "  File \"/Users/a-shyraliev/.pyenv/versions/3.12.2/lib/python3.12/site-packages/dgl/backend/__init__.py\", line 122, in <module>\n",
      "    load_backend(get_preferred_backend())\n",
      "  File \"/Users/a-shyraliev/.pyenv/versions/3.12.2/lib/python3.12/site-packages/dgl/backend/__init__.py\", line 37, in load_backend\n",
      "    import torch\n",
      "  File \"/Users/a-shyraliev/.pyenv/versions/3.12.2/lib/python3.12/site-packages/torch/__init__.py\", line 1471, in <module>\n",
      "    from .functional import *  # noqa: F403\n",
      "  File \"/Users/a-shyraliev/.pyenv/versions/3.12.2/lib/python3.12/site-packages/torch/functional.py\", line 9, in <module>\n",
      "    import torch.nn.functional as F\n",
      "  File \"/Users/a-shyraliev/.pyenv/versions/3.12.2/lib/python3.12/site-packages/torch/nn/__init__.py\", line 1, in <module>\n",
      "    from .modules import *  # noqa: F403\n",
      "  File \"/Users/a-shyraliev/.pyenv/versions/3.12.2/lib/python3.12/site-packages/torch/nn/modules/__init__.py\", line 35, in <module>\n",
      "    from .transformer import TransformerEncoder, TransformerDecoder, \\\n",
      "  File \"/Users/a-shyraliev/.pyenv/versions/3.12.2/lib/python3.12/site-packages/torch/nn/modules/transformer.py\", line 20, in <module>\n",
      "    device: torch.device = torch.device(torch._C._get_default_device()),  # torch.device('cpu'),\n",
      "/Users/a-shyraliev/.pyenv/versions/3.12.2/lib/python3.12/site-packages/torch/nn/modules/transformer.py:20: UserWarning: Failed to initialize NumPy: _ARRAY_API not found (Triggered internally at /Users/runner/work/pytorch/pytorch/pytorch/torch/csrc/utils/tensor_numpy.cpp:84.)\n",
      "  device: torch.device = torch.device(torch._C._get_default_device()),  # torch.device('cpu'),\n"
     ]
    },
    {
     "ename": "ModuleNotFoundError",
     "evalue": "No module named 'torch.utils._import_utils'",
     "output_type": "error",
     "traceback": [
      "\u001b[0;31m---------------------------------------------------------------------------\u001b[0m",
      "\u001b[0;31mModuleNotFoundError\u001b[0m                       Traceback (most recent call last)",
      "Cell \u001b[0;32mIn[1], line 1\u001b[0m\n\u001b[0;32m----> 1\u001b[0m \u001b[38;5;28;01mimport\u001b[39;00m \u001b[38;5;21;01mdgl\u001b[39;00m\n\u001b[1;32m      2\u001b[0m dgl\u001b[38;5;241m.\u001b[39m__version__\n",
      "File \u001b[0;32m~/.pyenv/versions/3.12.2/lib/python3.12/site-packages/dgl/__init__.py:16\u001b[0m\n\u001b[1;32m     13\u001b[0m \u001b[38;5;28;01mfrom\u001b[39;00m \u001b[38;5;21;01m.\u001b[39;00m\u001b[38;5;21;01mlogging\u001b[39;00m \u001b[38;5;28;01mimport\u001b[39;00m enable_verbose_logging  \u001b[38;5;66;03m# usort: skip\u001b[39;00m\n\u001b[1;32m     14\u001b[0m \u001b[38;5;28;01mfrom\u001b[39;00m \u001b[38;5;21;01m.\u001b[39;00m\u001b[38;5;21;01mbackend\u001b[39;00m \u001b[38;5;28;01mimport\u001b[39;00m backend_name, load_backend  \u001b[38;5;66;03m# usort: skip\u001b[39;00m\n\u001b[0;32m---> 16\u001b[0m \u001b[38;5;28;01mfrom\u001b[39;00m \u001b[38;5;21;01m.\u001b[39;00m \u001b[38;5;28;01mimport\u001b[39;00m (\n\u001b[1;32m     17\u001b[0m     container,\n\u001b[1;32m     18\u001b[0m     cuda,\n\u001b[1;32m     19\u001b[0m     dataloading,\n\u001b[1;32m     20\u001b[0m     function,\n\u001b[1;32m     21\u001b[0m     ops,\n\u001b[1;32m     22\u001b[0m     random,\n\u001b[1;32m     23\u001b[0m     sampling,\n\u001b[1;32m     24\u001b[0m     storages,\n\u001b[1;32m     25\u001b[0m )\n\u001b[1;32m     26\u001b[0m \u001b[38;5;28;01mfrom\u001b[39;00m \u001b[38;5;21;01m.\u001b[39;00m\u001b[38;5;21;01m_ffi\u001b[39;00m\u001b[38;5;21;01m.\u001b[39;00m\u001b[38;5;21;01mbase\u001b[39;00m \u001b[38;5;28;01mimport\u001b[39;00m __version__, DGLError\n\u001b[1;32m     27\u001b[0m \u001b[38;5;28;01mfrom\u001b[39;00m \u001b[38;5;21;01m.\u001b[39;00m\u001b[38;5;21;01m_ffi\u001b[39;00m\u001b[38;5;21;01m.\u001b[39;00m\u001b[38;5;21;01mfunction\u001b[39;00m \u001b[38;5;28;01mimport\u001b[39;00m (\n\u001b[1;32m     28\u001b[0m     extract_ext_funcs,\n\u001b[1;32m     29\u001b[0m     get_global_func,\n\u001b[1;32m     30\u001b[0m     list_global_func_names,\n\u001b[1;32m     31\u001b[0m     register_func,\n\u001b[1;32m     32\u001b[0m )\n",
      "File \u001b[0;32m~/.pyenv/versions/3.12.2/lib/python3.12/site-packages/dgl/dataloading/__init__.py:13\u001b[0m\n\u001b[1;32m     11\u001b[0m \u001b[38;5;28;01mif\u001b[39;00m F\u001b[38;5;241m.\u001b[39mget_preferred_backend() \u001b[38;5;241m==\u001b[39m \u001b[38;5;124m\"\u001b[39m\u001b[38;5;124mpytorch\u001b[39m\u001b[38;5;124m\"\u001b[39m:\n\u001b[1;32m     12\u001b[0m     \u001b[38;5;28;01mfrom\u001b[39;00m \u001b[38;5;21;01m.\u001b[39;00m\u001b[38;5;21;01mspot_target\u001b[39;00m \u001b[38;5;28;01mimport\u001b[39;00m \u001b[38;5;241m*\u001b[39m\n\u001b[0;32m---> 13\u001b[0m     \u001b[38;5;28;01mfrom\u001b[39;00m \u001b[38;5;21;01m.\u001b[39;00m\u001b[38;5;21;01mdataloader\u001b[39;00m \u001b[38;5;28;01mimport\u001b[39;00m \u001b[38;5;241m*\u001b[39m\n\u001b[1;32m     14\u001b[0m     \u001b[38;5;28;01mfrom\u001b[39;00m \u001b[38;5;21;01m.\u001b[39;00m\u001b[38;5;21;01mdist_dataloader\u001b[39;00m \u001b[38;5;28;01mimport\u001b[39;00m \u001b[38;5;241m*\u001b[39m\n",
      "File \u001b[0;32m~/.pyenv/versions/3.12.2/lib/python3.12/site-packages/dgl/dataloading/dataloader.py:27\u001b[0m\n\u001b[1;32m     25\u001b[0m \u001b[38;5;28;01mfrom\u001b[39;00m \u001b[38;5;21;01m.\u001b[39;00m\u001b[38;5;21;01m.\u001b[39;00m\u001b[38;5;21;01mbatch\u001b[39;00m \u001b[38;5;28;01mimport\u001b[39;00m batch \u001b[38;5;28;01mas\u001b[39;00m batch_graphs\n\u001b[1;32m     26\u001b[0m \u001b[38;5;28;01mfrom\u001b[39;00m \u001b[38;5;21;01m.\u001b[39;00m\u001b[38;5;21;01m.\u001b[39;00m\u001b[38;5;21;01mcuda\u001b[39;00m \u001b[38;5;28;01mimport\u001b[39;00m GPUCache\n\u001b[0;32m---> 27\u001b[0m \u001b[38;5;28;01mfrom\u001b[39;00m \u001b[38;5;21;01m.\u001b[39;00m\u001b[38;5;21;01m.\u001b[39;00m\u001b[38;5;21;01mdistributed\u001b[39;00m \u001b[38;5;28;01mimport\u001b[39;00m DistGraph\n\u001b[1;32m     28\u001b[0m \u001b[38;5;28;01mfrom\u001b[39;00m \u001b[38;5;21;01m.\u001b[39;00m\u001b[38;5;21;01m.\u001b[39;00m\u001b[38;5;21;01mframe\u001b[39;00m \u001b[38;5;28;01mimport\u001b[39;00m LazyFeature\n\u001b[1;32m     29\u001b[0m \u001b[38;5;28;01mfrom\u001b[39;00m \u001b[38;5;21;01m.\u001b[39;00m\u001b[38;5;21;01m.\u001b[39;00m\u001b[38;5;21;01mheterograph\u001b[39;00m \u001b[38;5;28;01mimport\u001b[39;00m DGLGraph\n",
      "File \u001b[0;32m~/.pyenv/versions/3.12.2/lib/python3.12/site-packages/dgl/distributed/__init__.py:5\u001b[0m\n\u001b[1;32m      3\u001b[0m \u001b[38;5;28;01mfrom\u001b[39;00m \u001b[38;5;21;01m.\u001b[39;00m\u001b[38;5;21;01mdist_context\u001b[39;00m \u001b[38;5;28;01mimport\u001b[39;00m exit_client, initialize\n\u001b[1;32m      4\u001b[0m \u001b[38;5;28;01mfrom\u001b[39;00m \u001b[38;5;21;01m.\u001b[39;00m\u001b[38;5;21;01mdist_dataloader\u001b[39;00m \u001b[38;5;28;01mimport\u001b[39;00m DistDataLoader\n\u001b[0;32m----> 5\u001b[0m \u001b[38;5;28;01mfrom\u001b[39;00m \u001b[38;5;21;01m.\u001b[39;00m\u001b[38;5;21;01mdist_graph\u001b[39;00m \u001b[38;5;28;01mimport\u001b[39;00m DistGraph, DistGraphServer, edge_split, node_split\n\u001b[1;32m      6\u001b[0m \u001b[38;5;28;01mfrom\u001b[39;00m \u001b[38;5;21;01m.\u001b[39;00m\u001b[38;5;21;01mdist_tensor\u001b[39;00m \u001b[38;5;28;01mimport\u001b[39;00m DistTensor\n\u001b[1;32m      7\u001b[0m \u001b[38;5;28;01mfrom\u001b[39;00m \u001b[38;5;21;01m.\u001b[39;00m\u001b[38;5;21;01mgraph_partition_book\u001b[39;00m \u001b[38;5;28;01mimport\u001b[39;00m GraphPartitionBook, PartitionPolicy\n",
      "File \u001b[0;32m~/.pyenv/versions/3.12.2/lib/python3.12/site-packages/dgl/distributed/dist_graph.py:11\u001b[0m\n\u001b[1;32m      7\u001b[0m \u001b[38;5;28;01mfrom\u001b[39;00m \u001b[38;5;21;01mcollections\u001b[39;00m\u001b[38;5;21;01m.\u001b[39;00m\u001b[38;5;21;01mabc\u001b[39;00m \u001b[38;5;28;01mimport\u001b[39;00m MutableMapping\n\u001b[1;32m      9\u001b[0m \u001b[38;5;28;01mimport\u001b[39;00m \u001b[38;5;21;01mnumpy\u001b[39;00m \u001b[38;5;28;01mas\u001b[39;00m \u001b[38;5;21;01mnp\u001b[39;00m\n\u001b[0;32m---> 11\u001b[0m \u001b[38;5;28;01mfrom\u001b[39;00m \u001b[38;5;21;01m.\u001b[39;00m\u001b[38;5;21;01m.\u001b[39;00m \u001b[38;5;28;01mimport\u001b[39;00m backend \u001b[38;5;28;01mas\u001b[39;00m F, graphbolt \u001b[38;5;28;01mas\u001b[39;00m gb, heterograph_index\n\u001b[1;32m     12\u001b[0m \u001b[38;5;28;01mfrom\u001b[39;00m \u001b[38;5;21;01m.\u001b[39;00m\u001b[38;5;21;01m.\u001b[39;00m\u001b[38;5;21;01m_ffi\u001b[39;00m\u001b[38;5;21;01m.\u001b[39;00m\u001b[38;5;21;01mndarray\u001b[39;00m \u001b[38;5;28;01mimport\u001b[39;00m empty_shared_mem\n\u001b[1;32m     13\u001b[0m \u001b[38;5;28;01mfrom\u001b[39;00m \u001b[38;5;21;01m.\u001b[39;00m\u001b[38;5;21;01m.\u001b[39;00m\u001b[38;5;21;01mbase\u001b[39;00m \u001b[38;5;28;01mimport\u001b[39;00m ALL, DGLError, EID, ETYPE, is_all, NID\n",
      "File \u001b[0;32m~/.pyenv/versions/3.12.2/lib/python3.12/site-packages/dgl/graphbolt/__init__.py:39\u001b[0m\n\u001b[1;32m     36\u001b[0m load_graphbolt()\n\u001b[1;32m     38\u001b[0m \u001b[38;5;66;03m# pylint: disable=wrong-import-position\u001b[39;00m\n\u001b[0;32m---> 39\u001b[0m \u001b[38;5;28;01mfrom\u001b[39;00m \u001b[38;5;21;01m.\u001b[39;00m\u001b[38;5;21;01mbase\u001b[39;00m \u001b[38;5;28;01mimport\u001b[39;00m \u001b[38;5;241m*\u001b[39m\n\u001b[1;32m     40\u001b[0m \u001b[38;5;28;01mfrom\u001b[39;00m \u001b[38;5;21;01m.\u001b[39;00m\u001b[38;5;21;01mminibatch\u001b[39;00m \u001b[38;5;28;01mimport\u001b[39;00m \u001b[38;5;241m*\u001b[39m\n\u001b[1;32m     41\u001b[0m \u001b[38;5;28;01mfrom\u001b[39;00m \u001b[38;5;21;01m.\u001b[39;00m\u001b[38;5;21;01mdataloader\u001b[39;00m \u001b[38;5;28;01mimport\u001b[39;00m \u001b[38;5;241m*\u001b[39m\n",
      "File \u001b[0;32m~/.pyenv/versions/3.12.2/lib/python3.12/site-packages/dgl/graphbolt/base.py:9\u001b[0m\n\u001b[1;32m      7\u001b[0m \u001b[38;5;28;01mfrom\u001b[39;00m \u001b[38;5;21;01mtorch\u001b[39;00m\u001b[38;5;21;01m.\u001b[39;00m\u001b[38;5;21;01mtorch_version\u001b[39;00m \u001b[38;5;28;01mimport\u001b[39;00m TorchVersion\n\u001b[1;32m      8\u001b[0m \u001b[38;5;28;01mfrom\u001b[39;00m \u001b[38;5;21;01mtorch\u001b[39;00m\u001b[38;5;21;01m.\u001b[39;00m\u001b[38;5;21;01mutils\u001b[39;00m\u001b[38;5;21;01m.\u001b[39;00m\u001b[38;5;21;01mdata\u001b[39;00m \u001b[38;5;28;01mimport\u001b[39;00m functional_datapipe\n\u001b[0;32m----> 9\u001b[0m \u001b[38;5;28;01mfrom\u001b[39;00m \u001b[38;5;21;01mtorchdata\u001b[39;00m\u001b[38;5;21;01m.\u001b[39;00m\u001b[38;5;21;01mdatapipes\u001b[39;00m\u001b[38;5;21;01m.\u001b[39;00m\u001b[38;5;21;01miter\u001b[39;00m \u001b[38;5;28;01mimport\u001b[39;00m IterDataPipe\n\u001b[1;32m     11\u001b[0m \u001b[38;5;28;01mfrom\u001b[39;00m \u001b[38;5;21;01m.\u001b[39;00m\u001b[38;5;21;01m.\u001b[39;00m\u001b[38;5;21;01mutils\u001b[39;00m \u001b[38;5;28;01mimport\u001b[39;00m recursive_apply\n\u001b[1;32m     13\u001b[0m __all__ \u001b[38;5;241m=\u001b[39m [\n\u001b[1;32m     14\u001b[0m     \u001b[38;5;124m\"\u001b[39m\u001b[38;5;124mCANONICAL_ETYPE_DELIMITER\u001b[39m\u001b[38;5;124m\"\u001b[39m,\n\u001b[1;32m     15\u001b[0m     \u001b[38;5;124m\"\u001b[39m\u001b[38;5;124mORIGINAL_EDGE_ID\u001b[39m\u001b[38;5;124m\"\u001b[39m,\n\u001b[0;32m   (...)\u001b[0m\n\u001b[1;32m     28\u001b[0m     \u001b[38;5;124m\"\u001b[39m\u001b[38;5;124mseed_type_str_to_ntypes\u001b[39m\u001b[38;5;124m\"\u001b[39m,\n\u001b[1;32m     29\u001b[0m ]\n",
      "File \u001b[0;32m~/.pyenv/versions/3.12.2/lib/python3.12/site-packages/torchdata/datapipes/__init__.py:11\u001b[0m\n\u001b[1;32m      7\u001b[0m \u001b[38;5;28;01mfrom\u001b[39;00m \u001b[38;5;21;01mtorch\u001b[39;00m\u001b[38;5;21;01m.\u001b[39;00m\u001b[38;5;21;01mutils\u001b[39;00m\u001b[38;5;21;01m.\u001b[39;00m\u001b[38;5;21;01mdata\u001b[39;00m \u001b[38;5;28;01mimport\u001b[39;00m DataChunk, functional_datapipe\n\u001b[1;32m      9\u001b[0m \u001b[38;5;28;01mfrom\u001b[39;00m \u001b[38;5;21;01mtorchdata\u001b[39;00m \u001b[38;5;28;01mimport\u001b[39;00m _extension  \u001b[38;5;66;03m# noqa: F401\u001b[39;00m\n\u001b[0;32m---> 11\u001b[0m \u001b[38;5;28;01mfrom\u001b[39;00m \u001b[38;5;21;01m.\u001b[39;00m \u001b[38;5;28;01mimport\u001b[39;00m \u001b[38;5;28miter\u001b[39m, \u001b[38;5;28mmap\u001b[39m, utils\n\u001b[1;32m     13\u001b[0m __all__ \u001b[38;5;241m=\u001b[39m [\u001b[38;5;124m\"\u001b[39m\u001b[38;5;124mDataChunk\u001b[39m\u001b[38;5;124m\"\u001b[39m, \u001b[38;5;124m\"\u001b[39m\u001b[38;5;124mfunctional_datapipe\u001b[39m\u001b[38;5;124m\"\u001b[39m, \u001b[38;5;124m\"\u001b[39m\u001b[38;5;124miter\u001b[39m\u001b[38;5;124m\"\u001b[39m, \u001b[38;5;124m\"\u001b[39m\u001b[38;5;124mmap\u001b[39m\u001b[38;5;124m\"\u001b[39m, \u001b[38;5;124m\"\u001b[39m\u001b[38;5;124mutils\u001b[39m\u001b[38;5;124m\"\u001b[39m]\n\u001b[1;32m     16\u001b[0m \u001b[38;5;28;01mfrom\u001b[39;00m \u001b[38;5;21;01mtorchdata\u001b[39;00m \u001b[38;5;28;01mimport\u001b[39;00m deprecation_warning\n",
      "File \u001b[0;32m~/.pyenv/versions/3.12.2/lib/python3.12/site-packages/torchdata/datapipes/iter/__init__.py:79\u001b[0m\n\u001b[1;32m     68\u001b[0m \u001b[38;5;28;01mfrom\u001b[39;00m \u001b[38;5;21;01mtorchdata\u001b[39;00m\u001b[38;5;21;01m.\u001b[39;00m\u001b[38;5;21;01mdatapipes\u001b[39;00m\u001b[38;5;21;01m.\u001b[39;00m\u001b[38;5;21;01miter\u001b[39;00m\u001b[38;5;21;01m.\u001b[39;00m\u001b[38;5;21;01mtransform\u001b[39;00m\u001b[38;5;21;01m.\u001b[39;00m\u001b[38;5;21;01mcallable\u001b[39;00m \u001b[38;5;28;01mimport\u001b[39;00m (\n\u001b[1;32m     69\u001b[0m     BatchAsyncMapperIterDataPipe \u001b[38;5;28;01mas\u001b[39;00m BatchAsyncMapper,\n\u001b[1;32m     70\u001b[0m     BatchMapperIterDataPipe \u001b[38;5;28;01mas\u001b[39;00m BatchMapper,\n\u001b[0;32m   (...)\u001b[0m\n\u001b[1;32m     76\u001b[0m     ThreadPoolMapperIterDataPipe \u001b[38;5;28;01mas\u001b[39;00m ThreadPoolMapper,\n\u001b[1;32m     77\u001b[0m )\n\u001b[1;32m     78\u001b[0m \u001b[38;5;28;01mfrom\u001b[39;00m \u001b[38;5;21;01mtorchdata\u001b[39;00m\u001b[38;5;21;01m.\u001b[39;00m\u001b[38;5;21;01mdatapipes\u001b[39;00m\u001b[38;5;21;01m.\u001b[39;00m\u001b[38;5;21;01miter\u001b[39;00m\u001b[38;5;21;01m.\u001b[39;00m\u001b[38;5;21;01mutil\u001b[39;00m\u001b[38;5;21;01m.\u001b[39;00m\u001b[38;5;21;01mbz2fileloader\u001b[39;00m \u001b[38;5;28;01mimport\u001b[39;00m Bz2FileLoaderIterDataPipe \u001b[38;5;28;01mas\u001b[39;00m Bz2FileLoader\n\u001b[0;32m---> 79\u001b[0m \u001b[38;5;28;01mfrom\u001b[39;00m \u001b[38;5;21;01mtorchdata\u001b[39;00m\u001b[38;5;21;01m.\u001b[39;00m\u001b[38;5;21;01mdatapipes\u001b[39;00m\u001b[38;5;21;01m.\u001b[39;00m\u001b[38;5;21;01miter\u001b[39;00m\u001b[38;5;21;01m.\u001b[39;00m\u001b[38;5;21;01mutil\u001b[39;00m\u001b[38;5;21;01m.\u001b[39;00m\u001b[38;5;21;01mcacheholder\u001b[39;00m \u001b[38;5;28;01mimport\u001b[39;00m (\n\u001b[1;32m     80\u001b[0m     EndOnDiskCacheHolderIterDataPipe \u001b[38;5;28;01mas\u001b[39;00m EndOnDiskCacheHolder,\n\u001b[1;32m     81\u001b[0m     InMemoryCacheHolderIterDataPipe \u001b[38;5;28;01mas\u001b[39;00m InMemoryCacheHolder,\n\u001b[1;32m     82\u001b[0m     OnDiskCacheHolderIterDataPipe \u001b[38;5;28;01mas\u001b[39;00m OnDiskCacheHolder,\n\u001b[1;32m     83\u001b[0m )\n\u001b[1;32m     84\u001b[0m \u001b[38;5;28;01mfrom\u001b[39;00m \u001b[38;5;21;01mtorchdata\u001b[39;00m\u001b[38;5;21;01m.\u001b[39;00m\u001b[38;5;21;01mdatapipes\u001b[39;00m\u001b[38;5;21;01m.\u001b[39;00m\u001b[38;5;21;01miter\u001b[39;00m\u001b[38;5;21;01m.\u001b[39;00m\u001b[38;5;21;01mutil\u001b[39;00m\u001b[38;5;21;01m.\u001b[39;00m\u001b[38;5;21;01mcombining\u001b[39;00m \u001b[38;5;28;01mimport\u001b[39;00m (\n\u001b[1;32m     85\u001b[0m     IterKeyZipperIterDataPipe \u001b[38;5;28;01mas\u001b[39;00m IterKeyZipper,\n\u001b[1;32m     86\u001b[0m     MapKeyZipperIterDataPipe \u001b[38;5;28;01mas\u001b[39;00m MapKeyZipper,\n\u001b[1;32m     87\u001b[0m     RoundRobinDemultiplexerIterDataPipe \u001b[38;5;28;01mas\u001b[39;00m RoundRobinDemultiplexer,\n\u001b[1;32m     88\u001b[0m     UnZipperIterDataPipe \u001b[38;5;28;01mas\u001b[39;00m UnZipper,\n\u001b[1;32m     89\u001b[0m )\n\u001b[1;32m     90\u001b[0m \u001b[38;5;28;01mfrom\u001b[39;00m \u001b[38;5;21;01mtorchdata\u001b[39;00m\u001b[38;5;21;01m.\u001b[39;00m\u001b[38;5;21;01mdatapipes\u001b[39;00m\u001b[38;5;21;01m.\u001b[39;00m\u001b[38;5;21;01miter\u001b[39;00m\u001b[38;5;21;01m.\u001b[39;00m\u001b[38;5;21;01mutil\u001b[39;00m\u001b[38;5;21;01m.\u001b[39;00m\u001b[38;5;21;01mcycler\u001b[39;00m \u001b[38;5;28;01mimport\u001b[39;00m CyclerIterDataPipe \u001b[38;5;28;01mas\u001b[39;00m Cycler, RepeaterIterDataPipe \u001b[38;5;28;01mas\u001b[39;00m Repeater\n",
      "File \u001b[0;32m~/.pyenv/versions/3.12.2/lib/python3.12/site-packages/torchdata/datapipes/iter/util/cacheholder.py:24\u001b[0m\n\u001b[1;32m     21\u001b[0m \u001b[38;5;28;01mexcept\u001b[39;00m \u001b[38;5;167;01mImportError\u001b[39;00m:\n\u001b[1;32m     22\u001b[0m     portalocker \u001b[38;5;241m=\u001b[39m \u001b[38;5;28;01mNone\u001b[39;00m\n\u001b[0;32m---> 24\u001b[0m \u001b[38;5;28;01mfrom\u001b[39;00m \u001b[38;5;21;01mtorch\u001b[39;00m\u001b[38;5;21;01m.\u001b[39;00m\u001b[38;5;21;01mutils\u001b[39;00m\u001b[38;5;21;01m.\u001b[39;00m\u001b[38;5;21;01m_import_utils\u001b[39;00m \u001b[38;5;28;01mimport\u001b[39;00m dill_available\n\u001b[1;32m     25\u001b[0m \u001b[38;5;28;01mfrom\u001b[39;00m \u001b[38;5;21;01mtorch\u001b[39;00m\u001b[38;5;21;01m.\u001b[39;00m\u001b[38;5;21;01mutils\u001b[39;00m\u001b[38;5;21;01m.\u001b[39;00m\u001b[38;5;21;01mdata\u001b[39;00m\u001b[38;5;21;01m.\u001b[39;00m\u001b[38;5;21;01mdatapipes\u001b[39;00m\u001b[38;5;21;01m.\u001b[39;00m\u001b[38;5;21;01mutils\u001b[39;00m\u001b[38;5;21;01m.\u001b[39;00m\u001b[38;5;21;01mcommon\u001b[39;00m \u001b[38;5;28;01mimport\u001b[39;00m _check_unpickable_fn\n\u001b[1;32m     27\u001b[0m \u001b[38;5;28;01mfrom\u001b[39;00m \u001b[38;5;21;01mtorch\u001b[39;00m\u001b[38;5;21;01m.\u001b[39;00m\u001b[38;5;21;01mutils\u001b[39;00m\u001b[38;5;21;01m.\u001b[39;00m\u001b[38;5;21;01mdata\u001b[39;00m\u001b[38;5;21;01m.\u001b[39;00m\u001b[38;5;21;01mgraph\u001b[39;00m \u001b[38;5;28;01mimport\u001b[39;00m traverse_dps\n",
      "\u001b[0;31mModuleNotFoundError\u001b[0m: No module named 'torch.utils._import_utils'"
     ]
    }
   ],
   "source": [
    "import dgl\n",
    "dgl.__version__"
   ]
  },
  {
   "cell_type": "code",
   "execution_count": 87,
   "metadata": {},
   "outputs": [
    {
     "name": "stdout",
     "output_type": "stream",
     "text": [
      "\n",
      "TEST:\n",
      "...\n",
      "    |    MAP | NDCG@10 | Precision@10 | Recall@10 | Train (s) | Test (s)\n",
      "--- + ------ + ------- + ------------ + --------- + --------- + --------\n",
      "MF  | 0.0031 |  0.0003 |       0.0004 |    0.0002 |   31.1900 | 327.8577\n",
      "PMF | 0.0108 |  0.0191 |       0.0197 |    0.0099 |  515.0184 | 330.4225\n",
      "BPR | 0.1050 |  0.1940 |       0.1690 |    0.0777 |  577.5718 | 315.8166\n",
      "\n"
     ]
    }
   ],
   "source": [
    "ml_20M = cornac.datasets.movielens.load_feedback(variant=\"20m\")\n",
    "rs = RatioSplit(data=ml_20M, test_size=0.2, rating_threshold=0.0, seed=123)\n",
    "\n",
    "mf = MF(k=10, max_iter=200, learning_rate=0.01, lambda_reg=0.02, use_bias=True, seed=123)\n",
    "pmf = PMF(k=10, max_iter=200, learning_rate=0.001, lambda_reg=0.001, seed=123)\n",
    "bpr = BPR(k=10, max_iter=200, learning_rate=0.001, lambda_reg=0.01, seed=123)\n",
    "\n",
    "models = [mf, pmf, bpr]\n",
    "\n",
    "metrics = [Precision(k=10), Recall(k=10), NDCG(k=10), MAP()]\n",
    "\n",
    "cornac.Experiment(\n",
    "    eval_method=rs,\n",
    "    models=models,\n",
    "    metrics=metrics,\n",
    "    user_based=True,\n",
    "    save_dir=None,\n",
    ").run()"
   ]
  }
 ],
 "metadata": {
  "kernelspec": {
   "display_name": "3.12.2",
   "language": "python",
   "name": "python3"
  },
  "language_info": {
   "codemirror_mode": {
    "name": "ipython",
    "version": 3
   },
   "file_extension": ".py",
   "mimetype": "text/x-python",
   "name": "python",
   "nbconvert_exporter": "python",
   "pygments_lexer": "ipython3",
   "version": "3.12.2"
  }
 },
 "nbformat": 4,
 "nbformat_minor": 2
}
